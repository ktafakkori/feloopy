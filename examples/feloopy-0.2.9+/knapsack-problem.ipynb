{
 "cells": [
  {
   "cell_type": "markdown",
   "metadata": {},
   "source": [
    "### **Knapsack Problem (KP)**"
   ]
  },
  {
   "cell_type": "markdown",
   "metadata": {},
   "source": [
    "* Copyright (c) 2022-2024, Keivan Tafakkori. All rights reserved.\n",
    "* See the file LICENSE file for licensing details."
   ]
  },
  {
   "cell_type": "markdown",
   "metadata": {},
   "source": [
    "####  *Required modules*"
   ]
  },
  {
   "cell_type": "code",
   "execution_count": 24,
   "metadata": {},
   "outputs": [],
   "source": [
    "import feloopy as flp"
   ]
  },
  {
   "cell_type": "markdown",
   "metadata": {},
   "source": [
    "####  *Dataset*"
   ]
  },
  {
   "cell_type": "code",
   "execution_count": 25,
   "metadata": {},
   "outputs": [],
   "source": [
    "dt = flp.data_toolkit(key=0)\n",
    "\n",
    "J = dt.set(name=\"J\", bound=[0,6])\n",
    "w = dt.store(name=\"w\", value= [40, 50, 30, 10, 10, 40, 30])\n",
    "W = dt.store(name=\"W\", value=100)\n",
    "p = dt.store(name=\"p\", value=[40, 60, 10, 10, 3, 20, 60])"
   ]
  },
  {
   "cell_type": "markdown",
   "metadata": {},
   "source": [
    "####  Exact Optimization Algorithms"
   ]
  },
  {
   "cell_type": "code",
   "execution_count": 26,
   "metadata": {},
   "outputs": [
    {
     "name": "stdout",
     "output_type": "stream",
     "text": [
      "\n",
      "√ Healthy\n",
      "\n",
      "┌─ FelooPy v0.2.9 ───────────────────────────────────────────────── Released April 2024 ─┐\n",
      "│                                                                                        │\n",
      "│ Date: 2024-04-07                                                       Interface: pulp │\n",
      "│ Time: 19:49:47                                                             Solver: cbc │\n",
      "│ Name: kp                                                                 Method: exact │\n",
      "│ Type: single-objective                                                    √ Configured │\n",
      "│                                                                                        │\n",
      "└────────────────────────────────────────────────────────────────────────────────────────┘\n",
      "\n",
      "┌─ Model ────────────────────────────────────────────────────────────────────────────────┐\n",
      "│                       B       I       P       F       E       S       O       C        │\n",
      "╞════════════════════════════════════════════════════════════════════════════════════════╡\n",
      "│ Class                 1       0       0       0       0       0       1       1        │\n",
      "│ Size                  7       0       0       0       0       0       1       1        │\n",
      "└────────────────────────────────────────────────────────────────────────────────────────┘\n",
      "\n",
      "┌─ Metric ────────────────────────────────────────────────── 00:00:00 h:m:s 1.60e+05 μs ─┐\n",
      "│                                                                                        │\n",
      "│ Objective                                                                     133.00   │\n",
      "│                                                                                        │\n",
      "└────────────────────────────────────────────────────────────────────────────────────────┘\n",
      "\n",
      "┌─ Decision ─────────────────────────────────────────────────────────────────────────────┐\n",
      "│                                                                                        │\n",
      "│ x = [0., 1., 0., 1., 1., 0., 1.]                                                       │\n",
      "│                                                                                        │\n",
      "└────────────────────────────────────────────────────────────────────────────────────────┘\n"
     ]
    }
   ],
   "source": [
    "def kp(m):\n",
    "    x = m.bvar('x', [J])\n",
    "    m.obj(m.sum(p[j]*x[j] for j in J))\n",
    "    m.con(m.sum(w[j]*x[j] for j in J) <= W)\n",
    "    return m\n",
    "\n",
    "m = flp.search(name=\"kp\",\n",
    "               environment=kp, \n",
    "               directions=[\"max\"],\n",
    "               method=\"exact\",\n",
    "               interface=\"pulp\",\n",
    "               solver=\"cbc\")\n",
    "\n",
    "m.clean_report()"
   ]
  },
  {
   "cell_type": "markdown",
   "metadata": {},
   "source": [
    "####  Heuristic Optimization Algorithms"
   ]
  },
  {
   "cell_type": "code",
   "execution_count": 27,
   "metadata": {},
   "outputs": [
    {
     "name": "stdout",
     "output_type": "stream",
     "text": [
      "\n",
      "√ Healthy\n",
      "\n",
      "┌─ FelooPy v0.2.9 ───────────────────────────────────────────────── Released April 2024 ─┐\n",
      "│                                                                                        │\n",
      "│ Date: 2024-04-07                                                     Interface: mealpy │\n",
      "│ Time: 19:49:55                                                         Solver: base-ga │\n",
      "│ Name: kp                                                             Method: heuristic │\n",
      "│ Type: single-objective                                                    √ Configured │\n",
      "│                                                                                        │\n",
      "└────────────────────────────────────────────────────────────────────────────────────────┘\n",
      "\n",
      "┌─ Model ────────────────────────────────────────────────────────────────────────────────┐\n",
      "│                       B       I       P       F       E       S       O       C        │\n",
      "╞════════════════════════════════════════════════════════════════════════════════════════╡\n",
      "│ Class                 1       0       0       0       0       0       1       1        │\n",
      "│ Size                  7       0       0       0       0       0       1       1        │\n",
      "└────────────────────────────────────────────────────────────────────────────────────────┘\n",
      "\n",
      "┌─ Metric ────────────────────────────────────────────────── 00:00:06 h:m:s 6.76e+06 μs ─┐\n",
      "│                                                                                        │\n",
      "│ Objective                                                                     133.00   │\n",
      "│                                                                                        │\n",
      "└────────────────────────────────────────────────────────────────────────────────────────┘\n",
      "\n",
      "┌─ Decision ─────────────────────────────────────────────────────────────────────────────┐\n",
      "│                                                                                        │\n",
      "│ x = [0., 1., 0., 1., 1., 0., 1.]                                                       │\n",
      "│                                                                                        │\n",
      "└────────────────────────────────────────────────────────────────────────────────────────┘\n"
     ]
    }
   ],
   "source": [
    "import feloopy as flp\n",
    "\n",
    "dt = flp.data_toolkit(key=0)\n",
    "\n",
    "J = dt.set(name=\"J\", bound=[0,6])\n",
    "w = dt.store(name=\"w\", value= [40, 50, 30, 10, 10, 40, 30])\n",
    "W = dt.store(name=\"W\", value=100)\n",
    "p = dt.store(name=\"p\", value=[40, 60, 10, 10, 3, 20, 60])\n",
    "\n",
    "def kp(m):\n",
    "    x = m.bvar('x', [J])\n",
    "    m.obj(m.sum(p[j]*x[j] for j in J))\n",
    "    m.pen(m.sum(w[j]*x[j] for j in J) - W)\n",
    "    return m\n",
    "\n",
    "m = flp.search(name=\"kp\",\n",
    "               environment=kp, \n",
    "               directions=[\"max\"],\n",
    "               method=\"heuristic\",\n",
    "               interface=\"mealpy\",\n",
    "               solver=\"base-ga\",\n",
    "               options={'epoch':100, 'pop_size':100, 'penalty_coefficient':0.1})\n",
    "\n",
    "m.clean_report()"
   ]
  }
 ],
 "metadata": {
  "kernelspec": {
   "display_name": "Python 3",
   "language": "python",
   "name": "python3"
  },
  "language_info": {
   "codemirror_mode": {
    "name": "ipython",
    "version": 3
   },
   "file_extension": ".py",
   "mimetype": "text/x-python",
   "name": "python",
   "nbconvert_exporter": "python",
   "pygments_lexer": "ipython3",
   "version": "3.10.0"
  }
 },
 "nbformat": 4,
 "nbformat_minor": 2
}
