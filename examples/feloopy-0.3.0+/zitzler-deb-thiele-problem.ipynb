{
 "cells": [
  {
   "cell_type": "markdown",
   "metadata": {},
   "source": [
    "<img src=\"https://github.com/ktafakkori/feloopy/raw/main/assets/logo/logo3.png\" width=\"2%\"> **Zitzler, Deb, and Thiele Problems (ZDT)**"
   ]
  },
  {
   "cell_type": "markdown",
   "metadata": {},
   "source": [
    "* Copyright (c) 2022-2024, Keivan Tafakkori. All rights reserved.\n",
    "* See the file LICENSE file for licensing details."
   ]
  },
  {
   "cell_type": "markdown",
   "metadata": {},
   "source": [
    "####  *Required modules*"
   ]
  },
  {
   "cell_type": "code",
   "execution_count": 1,
   "metadata": {},
   "outputs": [],
   "source": [
    "import feloopy as flp"
   ]
  },
  {
   "cell_type": "markdown",
   "metadata": {},
   "source": [
    "####  Dataset"
   ]
  },
  {
   "cell_type": "code",
   "execution_count": 2,
   "metadata": {},
   "outputs": [],
   "source": [
    "n = 30"
   ]
  },
  {
   "cell_type": "markdown",
   "metadata": {},
   "source": [
    "####  Heuristic Optimization Algorithms"
   ]
  },
  {
   "cell_type": "code",
   "execution_count": 3,
   "metadata": {},
   "outputs": [
    {
     "name": "stderr",
     "output_type": "stream",
     "text": [
      "c:\\Users\\Admin\\Environments\\flp-310\\lib\\site-packages\\feloopy\\feloopy.py:5013: SyntaxWarning: \"is\" with a literal. Did you mean \"==\"?\n",
      "  if algorithms is None or algorithms is \"all\":\n",
      "c:\\Users\\Admin\\Environments\\flp-310\\lib\\site-packages\\feloopy\\feloopy.py:5013: SyntaxWarning: \"is\" with a literal. Did you mean \"==\"?\n",
      "  if algorithms is None or algorithms is \"all\":\n",
      "c:\\Users\\Admin\\Environments\\flp-310\\lib\\site-packages\\feloopy\\feloopy.py:5013: SyntaxWarning: \"is\" with a literal. Did you mean \"==\"?\n",
      "  if algorithms is None or algorithms is \"all\":\n",
      "c:\\Users\\Admin\\Environments\\flp-310\\lib\\site-packages\\feloopy\\feloopy.py:5013: SyntaxWarning: \"is\" with a literal. Did you mean \"==\"?\n",
      "  if algorithms is None or algorithms is \"all\":\n",
      "c:\\Users\\Admin\\Environments\\flp-310\\lib\\site-packages\\feloopy\\feloopy.py:5013: SyntaxWarning: \"is\" with a literal. Did you mean \"==\"?\n",
      "  if algorithms is None or algorithms is \"all\":\n",
      "c:\\Users\\Admin\\Environments\\flp-310\\lib\\site-packages\\feloopy\\feloopy.py:5013: SyntaxWarning: \"is\" with a literal. Did you mean \"==\"?\n",
      "  if algorithms is None or algorithms is \"all\":\n"
     ]
    },
    {
     "ename": "NameError",
     "evalue": "name 'verbose' is not defined",
     "output_type": "error",
     "traceback": [
      "\u001b[1;31m---------------------------------------------------------------------------\u001b[0m",
      "\u001b[1;31mNameError\u001b[0m                                 Traceback (most recent call last)",
      "Cell \u001b[1;32mIn[3], line 8\u001b[0m\n\u001b[0;32m      5\u001b[0m     m\u001b[38;5;241m.\u001b[39mobj( g \u001b[38;5;241m*\u001b[39m (\u001b[38;5;241m1\u001b[39m \u001b[38;5;241m-\u001b[39m m\u001b[38;5;241m.\u001b[39mpower((x[:, \u001b[38;5;241m0\u001b[39m] \u001b[38;5;241m/\u001b[39m g), \u001b[38;5;241m0.5\u001b[39m)))\n\u001b[0;32m      6\u001b[0m     \u001b[38;5;28;01mreturn\u001b[39;00m m\n\u001b[1;32m----> 8\u001b[0m m \u001b[38;5;241m=\u001b[39m \u001b[43mflp\u001b[49m\u001b[38;5;241;43m.\u001b[39;49m\u001b[43msearch\u001b[49m\u001b[43m(\u001b[49m\u001b[43mname\u001b[49m\u001b[38;5;241;43m=\u001b[39;49m\u001b[38;5;124;43m\"\u001b[39;49m\u001b[38;5;124;43mzdt1\u001b[39;49m\u001b[38;5;124;43m\"\u001b[39;49m\u001b[43m,\u001b[49m\n\u001b[0;32m      9\u001b[0m \u001b[43m               \u001b[49m\u001b[43menvironment\u001b[49m\u001b[38;5;241;43m=\u001b[39;49m\u001b[43mzdt1\u001b[49m\u001b[43m,\u001b[49m\n\u001b[0;32m     10\u001b[0m \u001b[43m               \u001b[49m\u001b[43mdirections\u001b[49m\u001b[38;5;241;43m=\u001b[39;49m\u001b[43m[\u001b[49m\u001b[38;5;124;43m\"\u001b[39;49m\u001b[38;5;124;43mmin\u001b[39;49m\u001b[38;5;124;43m\"\u001b[39;49m\u001b[43m,\u001b[49m\u001b[38;5;124;43m\"\u001b[39;49m\u001b[38;5;124;43mmin\u001b[39;49m\u001b[38;5;124;43m\"\u001b[39;49m\u001b[43m]\u001b[49m\u001b[43m,\u001b[49m\n\u001b[0;32m     11\u001b[0m \u001b[43m               \u001b[49m\u001b[43mmethod\u001b[49m\u001b[38;5;241;43m=\u001b[39;49m\u001b[38;5;124;43m\"\u001b[39;49m\u001b[38;5;124;43mheuristic\u001b[39;49m\u001b[38;5;124;43m\"\u001b[39;49m\u001b[43m,\u001b[49m\n\u001b[0;32m     12\u001b[0m \u001b[43m               \u001b[49m\u001b[43minterface\u001b[49m\u001b[38;5;241;43m=\u001b[39;49m\u001b[38;5;124;43m\"\u001b[39;49m\u001b[38;5;124;43mpymoo\u001b[39;49m\u001b[38;5;124;43m\"\u001b[39;49m\u001b[43m,\u001b[49m\n\u001b[0;32m     13\u001b[0m \u001b[43m               \u001b[49m\u001b[43msolver\u001b[49m\u001b[38;5;241;43m=\u001b[39;49m\u001b[38;5;124;43m\"\u001b[39;49m\u001b[38;5;124;43mns-ga-ii\u001b[39;49m\u001b[38;5;124;43m\"\u001b[39;49m\u001b[43m,\u001b[49m\n\u001b[0;32m     14\u001b[0m \u001b[43m               \u001b[49m\u001b[43moptions\u001b[49m\u001b[38;5;241;43m=\u001b[39;49m\u001b[43m{\u001b[49m\u001b[38;5;124;43m'\u001b[39;49m\u001b[38;5;124;43mpop_size\u001b[39;49m\u001b[38;5;124;43m'\u001b[39;49m\u001b[43m:\u001b[49m\u001b[43m \u001b[49m\u001b[38;5;241;43m10\u001b[39;49m\u001b[43m,\u001b[49m\u001b[43m \u001b[49m\u001b[38;5;124;43m'\u001b[39;49m\u001b[38;5;124;43mn_gen\u001b[39;49m\u001b[38;5;124;43m'\u001b[39;49m\u001b[43m:\u001b[49m\u001b[43m \u001b[49m\u001b[38;5;241;43m10\u001b[39;49m\u001b[43m}\u001b[49m\u001b[43m,\u001b[49m\n\u001b[0;32m     15\u001b[0m \u001b[43m               \u001b[49m\u001b[43mkey_vars\u001b[49m\u001b[38;5;241;43m=\u001b[39;49m\u001b[43m[\u001b[49m\u001b[38;5;124;43m\"\u001b[39;49m\u001b[38;5;124;43mx\u001b[39;49m\u001b[38;5;124;43m\"\u001b[39;49m\u001b[43m]\u001b[49m\u001b[43m)\u001b[49m\n\u001b[0;32m     17\u001b[0m m\u001b[38;5;241m.\u001b[39mclean_report()\n",
      "File \u001b[1;32mc:\\Users\\Admin\\Environments\\flp-310\\lib\\site-packages\\feloopy\\feloopy.py:4698\u001b[0m, in \u001b[0;36msearch.__init__\u001b[1;34m(self, environment, name, method, approach, interface, directions, solver, dataset, key_params, key_vars, scenarios, benchmark, repeat, verbose, should_run, memorize, report, control_scenario, options, email, time_limit, cpu_threads, absolute_gap, relative_gap, *args, **kwargs)\u001b[0m\n\u001b[0;32m   4695\u001b[0m     \u001b[38;5;28;01mif\u001b[39;00m \u001b[38;5;28mself\u001b[39m\u001b[38;5;241m.\u001b[39mshould_benchmark: \n\u001b[0;32m   4696\u001b[0m         \u001b[38;5;28mself\u001b[39m\u001b[38;5;241m.\u001b[39mbenchmark_results \u001b[38;5;241m=\u001b[39m \u001b[38;5;28mself\u001b[39m\u001b[38;5;241m.\u001b[39mbenchmark(algorithms\u001b[38;5;241m=\u001b[39mbenchmark, repeat\u001b[38;5;241m=\u001b[39m\u001b[38;5;28mself\u001b[39m\u001b[38;5;241m.\u001b[39mrepeat)\n\u001b[1;32m-> 4698\u001b[0m     \u001b[38;5;28;43mself\u001b[39;49m\u001b[38;5;241;43m.\u001b[39;49m\u001b[43mrun\u001b[49m\u001b[43m(\u001b[49m\u001b[43mverbose\u001b[49m\u001b[38;5;241;43m=\u001b[39;49m\u001b[38;5;28;43mself\u001b[39;49m\u001b[38;5;241;43m.\u001b[39;49m\u001b[43mverbose\u001b[49m\u001b[43m)\u001b[49m\n\u001b[0;32m   4700\u001b[0m \u001b[38;5;28;01mif\u001b[39;00m \u001b[38;5;28mlen\u001b[39m(\u001b[38;5;28mself\u001b[39m\u001b[38;5;241m.\u001b[39mkey_params)\u001b[38;5;241m!=\u001b[39m\u001b[38;5;241m0\u001b[39m:\n\u001b[0;32m   4701\u001b[0m     \u001b[38;5;28mself\u001b[39m\u001b[38;5;241m.\u001b[39msensitivity(dataset, key_params, scenarios, environment,control_scenario)\n",
      "File \u001b[1;32mc:\\Users\\Admin\\Environments\\flp-310\\lib\\site-packages\\feloopy\\feloopy.py:4806\u001b[0m, in \u001b[0;36msearch.run\u001b[1;34m(self, verbose)\u001b[0m\n\u001b[0;32m   4804\u001b[0m         \u001b[38;5;28mself\u001b[39m\u001b[38;5;241m.\u001b[39mtime_solve_end \u001b[38;5;241m=\u001b[39m timeit\u001b[38;5;241m.\u001b[39mdefault_timer()\n\u001b[0;32m   4805\u001b[0m     \u001b[38;5;28;01melif\u001b[39;00m \u001b[38;5;28mself\u001b[39m\u001b[38;5;241m.\u001b[39mmethod \u001b[38;5;241m==\u001b[39m \u001b[38;5;124m\"\u001b[39m\u001b[38;5;124mheuristic\u001b[39m\u001b[38;5;124m\"\u001b[39m:\n\u001b[1;32m-> 4806\u001b[0m         \u001b[38;5;28;43mself\u001b[39;49m\u001b[38;5;241;43m.\u001b[39;49m\u001b[43mem\u001b[49m\u001b[38;5;241;43m.\u001b[39;49m\u001b[43msolve\u001b[49m\u001b[43m(\u001b[49m\u001b[43mshow_log\u001b[49m\u001b[38;5;241;43m=\u001b[39;49m\u001b[38;5;28;43;01mFalse\u001b[39;49;00m\u001b[43m,\u001b[49m\u001b[43m \u001b[49m\u001b[43mpenalty_coefficient\u001b[49m\u001b[38;5;241;43m=\u001b[39;49m\u001b[38;5;28;43mself\u001b[39;49m\u001b[38;5;241;43m.\u001b[39;49m\u001b[43mpenalty_coefficient\u001b[49m\u001b[43m)\u001b[49m\n\u001b[0;32m   4808\u001b[0m \u001b[38;5;28;01mif\u001b[39;00m \u001b[38;5;28mself\u001b[39m\u001b[38;5;241m.\u001b[39mmethod \u001b[38;5;241m==\u001b[39m \u001b[38;5;124m\"\u001b[39m\u001b[38;5;124mmadm\u001b[39m\u001b[38;5;124m\"\u001b[39m:\n\u001b[0;32m   4809\u001b[0m     \u001b[38;5;28mself\u001b[39m\u001b[38;5;241m.\u001b[39mtime_solve_begin \u001b[38;5;241m=\u001b[39m timeit\u001b[38;5;241m.\u001b[39mdefault_timer()\n",
      "File \u001b[1;32mc:\\Users\\Admin\\Environments\\flp-310\\lib\\site-packages\\feloopy\\feloopy.py:2418\u001b[0m, in \u001b[0;36mImplement.sol\u001b[1;34m(self, penalty_coefficient, number_of_times, show_plots, save_plots, show_log)\u001b[0m\n\u001b[0;32m   2415\u001b[0m \u001b[38;5;28;01mcase\u001b[39;00m \u001b[38;5;124m'\u001b[39m\u001b[38;5;124mpymoo\u001b[39m\u001b[38;5;124m'\u001b[39m:\n\u001b[0;32m   2417\u001b[0m     \u001b[38;5;28;01mfrom\u001b[39;00m \u001b[38;5;21;01m.\u001b[39;00m\u001b[38;5;21;01mgenerators\u001b[39;00m\u001b[38;5;21;01m.\u001b[39;00m\u001b[38;5;21;01msolution\u001b[39;00m \u001b[38;5;28;01mimport\u001b[39;00m pymoo_solution_generator\n\u001b[1;32m-> 2418\u001b[0m     \u001b[38;5;28mself\u001b[39m\u001b[38;5;241m.\u001b[39mBestAgent, \u001b[38;5;28mself\u001b[39m\u001b[38;5;241m.\u001b[39mBestReward,\u001b[38;5;28mself\u001b[39m\u001b[38;5;241m.\u001b[39mstart, \u001b[38;5;28mself\u001b[39m\u001b[38;5;241m.\u001b[39mend \u001b[38;5;241m=\u001b[39m \u001b[43mpymoo_solution_generator\u001b[49m\u001b[38;5;241;43m.\u001b[39;49m\u001b[43mgenerate_solution\u001b[49m\u001b[43m(\u001b[49m\u001b[38;5;28;43mself\u001b[39;49m\u001b[38;5;241;43m.\u001b[39;49m\u001b[43msolver_name\u001b[49m\u001b[43m,\u001b[49m\u001b[43m \u001b[49m\u001b[38;5;28;43mself\u001b[39;49m\u001b[38;5;241;43m.\u001b[39;49m\u001b[43mAlgOptions\u001b[49m\u001b[43m,\u001b[49m\u001b[43m \u001b[49m\u001b[38;5;28;43mself\u001b[39;49m\u001b[38;5;241;43m.\u001b[39;49m\u001b[43mFitness\u001b[49m\u001b[43m,\u001b[49m\u001b[43m \u001b[49m\u001b[38;5;28;43mself\u001b[39;49m\u001b[38;5;241;43m.\u001b[39;49m\u001b[43mtot_counter\u001b[49m\u001b[43m,\u001b[49m\u001b[43m \u001b[49m\u001b[38;5;28;43mself\u001b[39;49m\u001b[38;5;241;43m.\u001b[39;49m\u001b[43mobjectives_directions\u001b[49m\u001b[43m,\u001b[49m\u001b[43m \u001b[49m\u001b[38;5;28;43mself\u001b[39;49m\u001b[38;5;241;43m.\u001b[39;49m\u001b[43mObjectiveBeingOptimized\u001b[49m\u001b[43m,\u001b[49m\u001b[43m \u001b[49m\u001b[43mnumber_of_times\u001b[49m\u001b[43m,\u001b[49m\u001b[43m \u001b[49m\u001b[43mshow_plots\u001b[49m\u001b[43m,\u001b[49m\u001b[43m \u001b[49m\u001b[43msave_plots\u001b[49m\u001b[43m,\u001b[49m\u001b[43m \u001b[49m\u001b[43mshow_log\u001b[49m\u001b[43m)\u001b[49m\n\u001b[0;32m   2419\u001b[0m     \u001b[38;5;28mself\u001b[39m\u001b[38;5;241m.\u001b[39mremove \u001b[38;5;241m=\u001b[39m []\n\u001b[0;32m   2421\u001b[0m     \u001b[38;5;28;01mfor\u001b[39;00m i \u001b[38;5;129;01min\u001b[39;00m \u001b[38;5;28mrange\u001b[39m(np\u001b[38;5;241m.\u001b[39mshape(\u001b[38;5;28mself\u001b[39m\u001b[38;5;241m.\u001b[39mBestReward)[\u001b[38;5;241m0\u001b[39m]):\n",
      "File \u001b[1;32mc:\\Users\\Admin\\Environments\\flp-310\\lib\\site-packages\\feloopy\\generators\\solution\\pymoo_solution_generator.py:135\u001b[0m, in \u001b[0;36mgenerate_solution\u001b[1;34m(solver_name, AlgOptions, Fitness, ToTalVariableCounter, ObjectivesDirections, ObjectiveBeingOptimized, number_of_times, show_plots, save_plots, show_log)\u001b[0m\n\u001b[0;32m    132\u001b[0m     termination \u001b[38;5;241m=\u001b[39m RobustTermination(MultiObjectiveSpaceTermination(\u001b[38;5;241m*\u001b[39m\u001b[38;5;241m*\u001b[39mAlgOptions[\u001b[38;5;124m'\u001b[39m\u001b[38;5;124mobjective_space_tolerance_period\u001b[39m\u001b[38;5;124m'\u001b[39m][\u001b[38;5;241m0\u001b[39m]), period\u001b[38;5;241m=\u001b[39mAlgOptions[\u001b[38;5;124m'\u001b[39m\u001b[38;5;124mobjective_space_tolerance_period\u001b[39m\u001b[38;5;124m'\u001b[39m][\u001b[38;5;241m1\u001b[39m])\n\u001b[0;32m    134\u001b[0m time_solve_begin \u001b[38;5;241m=\u001b[39m timeit\u001b[38;5;241m.\u001b[39mdefault_timer()\n\u001b[1;32m--> 135\u001b[0m res \u001b[38;5;241m=\u001b[39m minimize(problem, algorithm, termination\u001b[38;5;241m=\u001b[39mtermination, verbose\u001b[38;5;241m=\u001b[39m\u001b[43mverbose\u001b[49m)\n\u001b[0;32m    136\u001b[0m time_solve_end \u001b[38;5;241m=\u001b[39m timeit\u001b[38;5;241m.\u001b[39mdefault_timer()\n\u001b[0;32m    137\u001b[0m pareto_front \u001b[38;5;241m=\u001b[39m ObjectivesDirections\u001b[38;5;241m*\u001b[39mres\u001b[38;5;241m.\u001b[39mF\n",
      "\u001b[1;31mNameError\u001b[0m: name 'verbose' is not defined"
     ]
    }
   ],
   "source": [
    "def zdt1(m):\n",
    "    x = m.pvar('x', dim=[n], bound=[0,1])\n",
    "    g = 1 + 9.0 / (n - 1) * m.sum(x[:, i] for i in range(1,n))\n",
    "    m.obj(x[:, 0])\n",
    "    m.obj( g * (1 - m.power((x[:, 0] / g), 0.5)))\n",
    "    return m\n",
    "\n",
    "m = flp.search(name=\"zdt1\",\n",
    "               environment=zdt1,\n",
    "               directions=[\"min\",\"min\"],\n",
    "               method=\"heuristic\",\n",
    "               interface=\"pymoo\",\n",
    "               solver=\"ns-ga-ii\",\n",
    "               options={'pop_size': 10, 'n_gen': 10},\n",
    "               key_vars=[\"x\"])\n",
    "\n",
    "m.clean_report()"
   ]
  }
 ],
 "metadata": {
  "kernelspec": {
   "display_name": "Python 3",
   "language": "python",
   "name": "python3"
  },
  "language_info": {
   "codemirror_mode": {
    "name": "ipython",
    "version": 3
   },
   "file_extension": ".py",
   "mimetype": "text/x-python",
   "name": "python",
   "nbconvert_exporter": "python",
   "pygments_lexer": "ipython3",
   "version": "3.10.7"
  }
 },
 "nbformat": 4,
 "nbformat_minor": 2
}
