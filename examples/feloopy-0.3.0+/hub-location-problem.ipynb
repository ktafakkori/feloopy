{
 "cells": [
  {
   "cell_type": "markdown",
   "metadata": {},
   "source": [
    "<img src=\"https://github.com/ktafakkori/feloopy/raw/main/assets/logo/logo3.png\" width=\"2%\"> **Hub Location Problem (HLP)**"
   ]
  },
  {
   "cell_type": "markdown",
   "metadata": {},
   "source": [
    "* Copyright (c) 2022-2024, Keivan Tafakkori. All rights reserved.\n",
    "* See the file LICENSE file for licensing details."
   ]
  },
  {
   "cell_type": "markdown",
   "metadata": {},
   "source": [
    "####  *Required modules*"
   ]
  },
  {
   "cell_type": "code",
   "execution_count": 1,
   "metadata": {},
   "outputs": [],
   "source": [
    "import feloopy as flp"
   ]
  },
  {
   "cell_type": "markdown",
   "metadata": {},
   "source": [
    "####  Dataset"
   ]
  },
  {
   "cell_type": "code",
   "execution_count": 2,
   "metadata": {},
   "outputs": [],
   "source": [
    "dt = flp.data_toolkit(key=0)\n",
    "\n",
    "n = dt.store(name=\"n\", value=10)\n",
    "N = dt.set(name=\"N\", bound=[0,n-1])\n",
    "f = dt.uniformint(name=\"f\", dim=[N], bound=[10,100]) #Establishment cost\n",
    "w = dt.uniform(name=\"w\", dim=[N,N], bound=[20,30])   #Required flow\n",
    "c = dt.uniform(name=\"c\", dim=[N,N], bound=[10,200])  #Transportation cost\n",
    "alpha = dt.store(name=\"alpha\", value=0.2)"
   ]
  },
  {
   "cell_type": "markdown",
   "metadata": {},
   "source": [
    "####  Exact Optimization Algorithms"
   ]
  },
  {
   "cell_type": "code",
   "execution_count": 3,
   "metadata": {},
   "outputs": [
    {
     "name": "stdout",
     "output_type": "stream",
     "text": [
      "\n",
      "√ Healthy\n",
      "\n",
      "┌─ FelooPy v0.3.0 ───────────────────────────────────────────────── Released April 2024 ─┐\n",
      "│                                                                                        │\n",
      "│ Date: 2024-04-25                                                      Interface: highs │\n",
      "│ Time: 14:24:16                                                           Solver: highs │\n",
      "│ Name: hlp                                                                Method: exact │\n",
      "│ Type: single-objective                                                  X Unconfigured │\n",
      "│                                                                                        │\n",
      "└────────────────────────────────────────────────────────────────────────────────────────┘\n",
      "\n",
      "┌─ Model ────────────────────────────────────────────────────────────────────────────────┐\n",
      "│                       B       I       P       F       E       S       O       C        │\n",
      "╞════════════════════════════════════════════════════════════════════════════════════════╡\n",
      "│ Class                 1       0       1       0       0       0       1       1        │\n",
      "│ Size                  100     0       10000   0       0       0       1       1200     │\n",
      "└────────────────────────────────────────────────────────────────────────────────────────┘\n",
      "\n",
      "┌─ Metric ────────────────────────────────────────────────── 00:00:00 h:m:s 6.11e+05 μs ─┐\n",
      "│                                                                                        │\n",
      "│ Objective                                                                     7498.54  │\n",
      "│                                                                                        │\n",
      "└────────────────────────────────────────────────────────────────────────────────────────┘\n",
      "\n",
      "┌─ Decision ─────────────────────────────────────────────────────────────────────────────┐\n",
      "│                                                                                        │\n",
      "│ z = [[ 1.,  0., -0.,  0.,  0., -0.,  0., -0., -0., -0.],                               │\n",
      "│      [ 0.,  0.,  0.,  0.,  0.,  0.,  0.,  0.,  1., -0.],                               │\n",
      "│      [ 0.,  0., -0.,  0.,  0.,  0.,  0., -0.,  1.,  0.],                               │\n",
      "│      [ 0.,  0., -0.,  0.,  0., -0.,  0., -0.,  1.,  0.],                               │\n",
      "│      [ 0.,  0., -0.,  0.,  0., -0.,  0., -0.,  1.,  0.],                               │\n",
      "│      [ 0.,  0., -0.,  0.,  0., -0.,  0., -0.,  1.,  0.],                               │\n",
      "│      [ 0.,  0., -0.,  0.,  0., -0.,  0., -0.,  1.,  0.],                               │\n",
      "│      [ 0.,  0., -0.,  0.,  0., -0.,  0., -0.,  1.,  0.],                               │\n",
      "│      [ 0.,  0., -0.,  0.,  0., -0.,  0., -0.,  1.,  0.],                               │\n",
      "│      [ 0.,  0., -0.,  0.,  0.,  0.,  0., -0.,  1., -0.]]                               │\n",
      "│                                                                                        │\n",
      "└────────────────────────────────────────────────────────────────────────────────────────┘\n"
     ]
    }
   ],
   "source": [
    "def hlp(m):\n",
    "    z = m.bvar(name=\"z\", dim=[N,N])\n",
    "    x = m.pvar(name=\"x\", dim=[N,N,N,N])\n",
    "    m.obj(m.sum(f[k]*z[k,k] for k in N) + m.sum(alpha*w[i,j]*c[k,h]*x[i,j,k,h] for i,j,k,h in flp.sets(N,N,N,N)))\n",
    "    m.con([m.sum(z[i,k] for k in N)==1 for i in N])\n",
    "    m.con([z[i,k] <= z[k,k] for i,k in flp.sets(N,N) if i!=k])\n",
    "    m.con([m.sum(x[i,j,k,h] for k in N)==z[j,h] for i,h in flp.sets(N,N) for j in range(i,n)])\n",
    "    m.con([m.sum(x[i,j,k,h] for h in N)==z[i,k] for i,k in flp.sets(N,N) for j in range(i,n)])\n",
    "    return m\n",
    "\n",
    "m = flp.search(name=\"hlp\",\n",
    "               environment=hlp, \n",
    "               directions=[\"min\"],\n",
    "               method=\"exact\",\n",
    "               interface=\"highs\",\n",
    "               solver=\"highs\",\n",
    "               key_vars=[\"z\"])\n",
    "\n",
    "m.clean_report()"
   ]
  }
 ],
 "metadata": {
  "kernelspec": {
   "display_name": "Python 3",
   "language": "python",
   "name": "python3"
  },
  "language_info": {
   "codemirror_mode": {
    "name": "ipython",
    "version": 3
   },
   "file_extension": ".py",
   "mimetype": "text/x-python",
   "name": "python",
   "nbconvert_exporter": "python",
   "pygments_lexer": "ipython3",
   "version": "3.10.0"
  }
 },
 "nbformat": 4,
 "nbformat_minor": 2
}
