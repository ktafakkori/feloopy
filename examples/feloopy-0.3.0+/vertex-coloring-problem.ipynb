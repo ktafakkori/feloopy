{
 "cells": [
  {
   "cell_type": "markdown",
   "metadata": {},
   "source": [
    "<img src=\"https://github.com/ktafakkori/feloopy/raw/main/assets/logo/logo3.png\" width=\"2%\"> **Vertex Coloring Problem (VCP)**"
   ]
  },
  {
   "cell_type": "markdown",
   "metadata": {},
   "source": [
    "* Copyright (c) 2022-2024, Keivan Tafakkori. All rights reserved.\n",
    "* See the file LICENSE file for licensing details."
   ]
  },
  {
   "cell_type": "markdown",
   "metadata": {},
   "source": [
    "####  *Required modules*"
   ]
  },
  {
   "cell_type": "code",
   "execution_count": 5,
   "metadata": {},
   "outputs": [],
   "source": [
    "import feloopy as flp"
   ]
  },
  {
   "cell_type": "markdown",
   "metadata": {},
   "source": [
    "####  Dataset"
   ]
  },
  {
   "cell_type": "code",
   "execution_count": 6,
   "metadata": {},
   "outputs": [],
   "source": [
    "dt = flp.data_toolkit(key=0)\n",
    "\n",
    "V = dt.set(name=\"V\", bound=[0,4])\n",
    "C = dt.set(name=\"C\", bound=[0,len(V)-2])\n",
    "edges = dt.store(name=\"edges\", value=[[0,1],[0,2],[1,2],[1,3],[2,3],[3,4]])\n",
    "E = dt.set(name=\"E\", bound=[0,len(edges)-1])\n",
    "colors = dt.colors(name=\"colors\", dim=[C])"
   ]
  },
  {
   "cell_type": "markdown",
   "metadata": {},
   "source": [
    "####  Exact Optimization Algorithms"
   ]
  },
  {
   "cell_type": "code",
   "execution_count": 7,
   "metadata": {},
   "outputs": [
    {
     "name": "stdout",
     "output_type": "stream",
     "text": [
      "\n",
      "√ Healthy\n",
      "\n",
      "┌─ FelooPy v0.3.0 ───────────────────────────────────────────────── Released April 2024 ─┐\n",
      "│                                                                                        │\n",
      "│ Date: 2024-04-25                                                     Interface: gurobi │\n",
      "│ Time: 14:52:03                                                          Solver: gurobi │\n",
      "│ Name: vcp                                                                Method: exact │\n",
      "│ Type: single-objective                                                  X Unconfigured │\n",
      "│                                                                                        │\n",
      "└────────────────────────────────────────────────────────────────────────────────────────┘\n",
      "\n",
      "┌─ Model ────────────────────────────────────────────────────────────────────────────────┐\n",
      "│                       B       I       P       F       E       S       O       C        │\n",
      "╞════════════════════════════════════════════════════════════════════════════════════════╡\n",
      "│ Class                 1       0       0       0       0       0       1       1        │\n",
      "│ Size                  20      0       0       0       0       0       1       29       │\n",
      "└────────────────────────────────────────────────────────────────────────────────────────┘\n",
      "\n",
      "┌─ Metric ────────────────────────────────────────────────── 00:00:00 h:m:s 2.62e+02 μs ─┐\n",
      "│                                                                                        │\n",
      "│ Objective                                                                     -0.00    │\n",
      "│                                                                                        │\n",
      "└────────────────────────────────────────────────────────────────────────────────────────┘\n",
      "\n",
      "┌─ Decision ─────────────────────────────────────────────────────────────────────────────┐\n",
      "│                                                                                        │\n",
      "│ x = [[0., 0., 1., 0.],                                                                 │"
     ]
    },
    {
     "name": "stdout",
     "output_type": "stream",
     "text": [
      "\n",
      "│      [1., 0., 0., 0.],                                                                 │\n",
      "│      [0., 1., 0., 0.],                                                                 │\n",
      "│      [0., 0., 0., 1.],                                                                 │\n",
      "│      [0., 0., 1., 0.]]                                                                 │\n",
      "│                                                                                        │\n",
      "└────────────────────────────────────────────────────────────────────────────────────────┘\n"
     ]
    }
   ],
   "source": [
    "def vcp(m):\n",
    "    x = m.bvar('x', dim=[V,C])\n",
    "    m.con([m.sum(x[v,c] for c in C)==1 for v in V])\n",
    "    m.con([x[edges[e][0],c]+x[edges[e][1],c] <= 1 for c,e in flp.sets(C,E)])\n",
    "    m.obj(0)\n",
    "    return m\n",
    "\n",
    "m = flp.search(name=\"vcp\",\n",
    "               environment=vcp, \n",
    "               directions=[\"max\"],\n",
    "               method=\"exact\",\n",
    "               interface=\"gurobi\",\n",
    "               solver=\"gurobi\",\n",
    "               key_vars=[\"x\"])\n",
    "\n",
    "m.clean_report()"
   ]
  },
  {
   "cell_type": "code",
   "execution_count": 8,
   "metadata": {},
   "outputs": [
    {
     "name": "stdout",
     "output_type": "stream",
     "text": [
      "[('0', 'darkorchid'), ('1', 'cyan'), ('2', 'darkblue'), ('3', 'khaki'), ('4', 'darkorchid')]\n"
     ]
    }
   ],
   "source": [
    "x = m.get(\"x\")\n",
    "print([(str(v), colors[c]) for v,c in flp.sets(V,C) if x[v,c]>0])"
   ]
  }
 ],
 "metadata": {
  "kernelspec": {
   "display_name": "Python 3",
   "language": "python",
   "name": "python3"
  },
  "language_info": {
   "codemirror_mode": {
    "name": "ipython",
    "version": 3
   },
   "file_extension": ".py",
   "mimetype": "text/x-python",
   "name": "python",
   "nbconvert_exporter": "python",
   "pygments_lexer": "ipython3",
   "version": "3.10.0"
  }
 },
 "nbformat": 4,
 "nbformat_minor": 2
}
