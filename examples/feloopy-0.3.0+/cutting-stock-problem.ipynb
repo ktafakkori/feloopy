{
 "cells": [
  {
   "cell_type": "markdown",
   "metadata": {},
   "source": [
    "<img src=\"https://github.com/ktafakkori/feloopy/raw/main/assets/logo/logo3.png\" width=\"2%\"> **Cutting Stock Problem (CSP)**"
   ]
  },
  {
   "cell_type": "markdown",
   "metadata": {},
   "source": [
    "* Copyright (c) 2022-2024, Keivan Tafakkori. All rights reserved.\n",
    "* See the file LICENSE file for licensing details."
   ]
  },
  {
   "cell_type": "markdown",
   "metadata": {},
   "source": [
    "####  *Required modules*"
   ]
  },
  {
   "cell_type": "code",
   "execution_count": 1,
   "metadata": {},
   "outputs": [],
   "source": [
    "import feloopy as flp"
   ]
  },
  {
   "cell_type": "markdown",
   "metadata": {},
   "source": [
    "####  Dataset"
   ]
  },
  {
   "cell_type": "code",
   "execution_count": 2,
   "metadata": {},
   "outputs": [],
   "source": [
    "dt = flp.data_toolkit(key=0)\n",
    "\n",
    "items = dt.set(name=\"items\", bound=[0,4])\n",
    "rolls = dt.set(name=\"rolls\", bound=[0, 99])\n",
    "items_length = dt.store(name=\"items_length\", value=[20, 45, 50, 55, 75])\n",
    "items_demand = dt.store(name=\"items_demand\", value=[48, 35, 24, 10, 8])\n",
    "rolls_length = dt.store(name=\"rolls_length\", value=110)"
   ]
  },
  {
   "cell_type": "markdown",
   "metadata": {},
   "source": [
    "####  Exact Optimization Algorithms"
   ]
  },
  {
   "cell_type": "code",
   "execution_count": 3,
   "metadata": {},
   "outputs": [
    {
     "name": "stdout",
     "output_type": "stream",
     "text": [
      "\n",
      "√ Healthy\n",
      "\n",
      "┌─ FelooPy v0.3.0 ───────────────────────────────────────────────── Released April 2024 ─┐\n",
      "│                                                                                        │\n",
      "│ Date: 2024-05-10                                                      Interface: cplex │\n",
      "│ Time: 19:12:14                                                           Solver: cplex │\n",
      "│ Name: csp                                                                Method: exact │\n",
      "│ Type: single-objective                                                  X Unconfigured │\n",
      "│                                                                                        │\n",
      "└────────────────────────────────────────────────────────────────────────────────────────┘\n",
      "\n",
      "┌─ Model ────────────────────────────────────────────────────────────────────────────────┐\n",
      "│                       B       I       P       F       E       S       O       C        │\n",
      "╞════════════════════════════════════════════════════════════════════════════════════════╡\n",
      "│ Class                 1       1       0       0       0       0       1       1        │\n",
      "│ Size                  100     500     0       0       0       0       1       205      │\n",
      "└────────────────────────────────────────────────────────────────────────────────────────┘\n",
      "\n",
      "┌─ Metric ────────────────────────────────────────────────── 00:00:05 h:m:s 5.80e+06 μs ─┐\n",
      "│                                                                                        │\n",
      "│ Objective                                                                     47.00    │\n",
      "│                                                                                        │\n",
      "└────────────────────────────────────────────────────────────────────────────────────────┘\n",
      "\n",
      "┌─ Decision ─────────────────────────────────────────────────────────────────────────────┐\n",
      "│                                                                                        │\n",
      "│ z = [[0., 0., 0., 0., 0.],                                                             │\n",
      "│      [0., 0., 0., 0., 0.],                                                             │\n",
      "│      [0., 0., 0., 0., 0.],                                                             │\n",
      "│      [0., 0., 0., 0., 0.],                                                             │\n",
      "│      [0., 0., 0., 0., 0.],                                                             │\n",
      "│      [0., 0., 0., 0., 0.],                                                             │\n",
      "│      [0., 0., 0., 0., 0.],                                                             │\n",
      "│      [0., 0., 0., 0., 0.],                                                             │\n",
      "│      [1., 0., 0., 0., 1.],                                                             │\n",
      "│      [0., 0., 0., 0., 0.],                                                             │\n",
      "│      [1., 2., 0., 0., 0.],                                                             │\n",
      "│      [0., 0., 0., 0., 0.],                                                             │\n",
      "│      [0., 0., 0., 0., 0.],                                                             │\n",
      "│      [0., 0., 0., 0., 0.],                                                             │\n",
      "│      [1., 2., 0., 0., 0.],                                                             │\n",
      "│      [0., 0., 0., 0., 0.],                                                             │\n",
      "│      [0., 0., 0., 0., 0.],                                                             │\n",
      "│      [1., 2., 0., 0., 0.],                                                             │\n",
      "│      [3., 0., 1., 0., 0.],                                                             │\n",
      "│      [1., 2., 0., 0., 0.],                                                             │\n",
      "│      [0., 0., 0., 0., 0.],                                                             │\n",
      "│      [0., 0., 0., 0., 0.],                                                             │\n",
      "│      [1., 2., 0., 0., 0.],                                                             │\n",
      "│      [1., 2., 0., 0., 0.],                                                             │\n",
      "│      [1., 2., 0., 0., 0.],                                                             │\n",
      "│      [0., 0., 0., 0., 0.],                                                             │\n",
      "│      [0., 0., 0., 0., 0.],                                                             │\n",
      "│      [0., 0., 0., 0., 0.],                                                             │\n",
      "│      [1., 2., 0., 0., 0.],                                                             │\n",
      "│      [1., 2., 0., 0., 0.],                                                             │\n",
      "│      [0., 0., 0., 0., 0.],                                                             │\n",
      "│      [1., 2., 0., 0., 0.],                                                             │\n",
      "│      [1., 0., 0., 0., 1.],                                                             │\n",
      "│      [0., 0., 0., 0., 0.],                                                             │\n",
      "│      [3., 0., 1., 0., 0.],                                                             │\n",
      "│      [0., 0., 0., 0., 0.],                                                             │\n",
      "│      [3., 0., 1., 0., 0.],                                                             │\n",
      "│      [0., 0., 0., 0., 0.],                                                             │\n",
      "│      [1., 0., 0., 0., 1.],                                                             │\n",
      "│      [0., 0., 0., 0., 0.],                                                             │\n",
      "│      [0., 0., 0., 0., 0.],                                                             │\n",
      "│      [0., 0., 0., 0., 0.],                                                             │\n",
      "│      [0., 0., 2., 0., 0.],                                                             │\n",
      "│      [0., 0., 0., 0., 0.],                                                             │\n",
      "│      [0., 0., 0., 0., 0.],                                                             │\n",
      "│      [1., 0., 0., 0., 1.],                                                             │\n",
      "│      [0., 0., 0., 0., 0.],                                                             │\n",
      "│      [1., 2., 0., 0., 0.],                                                             │\n",
      "│      [3., 0., 1., 0., 0.],                                                             │\n",
      "│      [0., 0., 0., 0., 0.],                                                             │\n",
      "│      [0., 0., 0., 0., 0.],                                                             │\n",
      "│      [3., 0., 1., 0., 0.],                                                             │\n",
      "│      [0., 0., 0., 2., 0.],                                                             │\n",
      "│      [0., 0., 0., 2., 0.],                                                             │\n",
      "│      [0., 0., 0., 0., 0.],                                                             │\n",
      "│      [0., 0., 0., 0., 0.],                                                             │\n",
      "│      [0., 0., 0., 0., 0.],                                                             │\n",
      "│      [1., 0., 0., 0., 1.],                                                             │\n",
      "│      [0., 0., 0., 0., 0.],                                                             │\n",
      "│      [0., 0., 0., 0., 0.],                                                             │\n",
      "│      [0., 0., 0., 0., 0.],                                                             │\n",
      "│      [0., 0., 0., 0., 0.],                                                             │\n",
      "│      [0., 1., 1., 0., 0.],                                                             │\n",
      "│      [1., 2., 0., 0., 0.],                                                             │\n",
      "│      [1., 2., 0., 0., 0.],                                                             │\n",
      "│      [1., 2., 0., 0., 0.],                                                             │\n",
      "│      [0., 0., 0., 0., 0.],                                                             │\n",
      "│      [0., 0., 0., 0., 0.],                                                             │\n",
      "│      [0., 0., 0., 0., 0.],                                                             │\n",
      "│      [0., 0., 2., 0., 0.],                                                             │\n",
      "│      [0., 0., 0., 0., 0.],                                                             │\n",
      "│      [0., 0., 2., 0., 0.],                                                             │\n",
      "│      [0., 0., 0., 2., 0.],                                                             │\n",
      "│      [0., 0., 0., 0., 0.],                                                             │\n",
      "│      [0., 0., 0., 2., 0.],                                                             │\n",
      "│      [0., 0., 0., 0., 0.],                                                             │\n",
      "│      [0., 0., 0., 0., 0.],                                                             │\n",
      "│      [0., 0., 0., 0., 0.],                                                             │\n",
      "│      [0., 0., 2., 0., 0.],                                                             │\n",
      "│      [1., 2., 0., 0., 0.],                                                             │\n",
      "│      [2., 0., 1., 0., 0.],                                                             │\n",
      "│      [3., 0., 1., 0., 0.],                                                             │\n",
      "│      [1., 0., 0., 0., 1.],                                                             │\n",
      "│      [0., 0., 0., 0., 0.],                                                             │\n",
      "│      [1., 2., 0., 0., 0.],                                                             │\n",
      "│      [0., 0., 0., 0., 0.],                                                             │\n",
      "│      [1., 2., 0., 0., 0.],                                                             │\n",
      "│      [0., 0., 0., 0., 0.],                                                             │\n",
      "│      [0., 0., 0., 0., 0.],                                                             │\n",
      "│      [1., 0., 0., 0., 1.],                                                             │\n",
      "│      [3., 0., 1., 0., 0.],                                                             │\n",
      "│      [0., 0., 0., 0., 0.],                                                             │\n",
      "│      [0., 0., 2., 0., 0.],                                                             │\n",
      "│      [1., 0., 0., 0., 1.],                                                             │\n",
      "│      [0., 0., 0., 0., 0.],                                                             │\n",
      "│      [0., 0., 2., 0., 0.],                                                             │\n",
      "│      [0., 0., 0., 2., 0.],                                                             │\n",
      "│      [0., 0., 0., 0., 0.],                                                             │\n",
      "│      [0., 0., 2., 0., 0.],                                                             │\n",
      "│      [0., 0., 2., 0., 0.]]                                                             │\n",
      "│                                                                                        │\n",
      "│ y = [0., 0., 0., 0., 0., 0., 0., 0., 1., 0., 1., 0., 0., 0., 1., 0., 0., 1.,           │\n",
      "│      1., 1., 0., 0., 1., 1., 1., 0., 0., 0., 1., 1., 0., 1., 1., 0., 1., 0.,           │\n",
      "│      1., 0., 1., 0., 0., 0., 1., 0., 0., 1., 0., 1., 1., 0., 0., 1., 1., 1.,           │\n",
      "│      0., 0., 0., 1., 0., 0., 0., 0., 1., 1., 1., 1., 0., 0., 0., 1., 0., 1.,           │\n",
      "│      1., 0., 1., 0., 0., 0., 1., 1., 1., 1., 1., 0., 1., 0., 1., 0., 0., 1.,           │\n",
      "│      1., 0., 1., 1., 0., 1., 1., 0., 1., 1.]                                           │\n",
      "│                                                                                        │\n",
      "└────────────────────────────────────────────────────────────────────────────────────────┘\n"
     ]
    }
   ],
   "source": [
    "def csp(m):\n",
    "    z = m.ivar(name=\"z\", dim=[rolls,items], bound=[0,10])\n",
    "    y = m.bvar(name=\"y\", dim=[rolls])\n",
    "    m.obj(m.sum(y[roll] for roll in rolls))\n",
    "    m.con([m.sum(z[roll,item] for roll in rolls) >= items_demand[item] for item in items])\n",
    "    m.con([m.sum(items_length[item]*z[roll,item] for item in items) <= rolls_length for roll in rolls])\n",
    "    m.con([m.sum(z[roll,item] for item in items) <= len(rolls)*y[roll] for roll in rolls])\n",
    "    return m\n",
    "\n",
    "m = flp.search(name=\"csp\",\n",
    "               environment=csp, \n",
    "               directions=[\"min\"],\n",
    "               method=\"exact\",\n",
    "               interface=\"cplex\",\n",
    "               solver=\"cplex\",\n",
    "               key_vars=[\"y\", \"z\"],\n",
    "               verbose=False)\n",
    "\n",
    "m.clean_report()"
   ]
  },
  {
   "cell_type": "code",
   "execution_count": 4,
   "metadata": {},
   "outputs": [
    {
     "name": "stdout",
     "output_type": "stream",
     "text": [
      "Pattern [1.0, 0.0, 0.0, 0.0, 1.0] is used 8 times.\n",
      "Pattern [1.0, 2.0, 0.0, 0.0, 0.0] is used 17 times.\n",
      "Pattern [3.0, 0.0, 1.0, 0.0, 0.0] is used 7 times.\n",
      "Pattern [0.0, 0.0, 2.0, 0.0, 0.0] is used 8 times.\n",
      "Pattern [0.0, 0.0, 0.0, 2.0, 0.0] is used 5 times.\n",
      "Pattern [0.0, 1.0, 1.0, 0.0, 0.0] is used 1 times.\n",
      "Pattern [2.0, 0.0, 1.0, 0.0, 0.0] is used 1 times.\n"
     ]
    }
   ],
   "source": [
    "y = m.get(\"y\")\n",
    "z = m.get(\"z\")\n",
    "\n",
    "patterns = {} \n",
    "for roll in rolls:\n",
    "    if y[roll] > 0.8:\n",
    "        pattern = [z[roll, item] for item in items]\n",
    "        pattern_str = \"[\"+', '.join(map(str, pattern))+\"]\"\n",
    "        if pattern_str in patterns:\n",
    "            patterns[pattern_str] += 1\n",
    "        else:\n",
    "            patterns[pattern_str] = 1\n",
    "\n",
    "for pattern, count in patterns.items():\n",
    "    print(f\"Pattern {pattern} is used {count} times.\")"
   ]
  }
 ],
 "metadata": {
  "kernelspec": {
   "display_name": "Python 3",
   "language": "python",
   "name": "python3"
  },
  "language_info": {
   "codemirror_mode": {
    "name": "ipython",
    "version": 3
   },
   "file_extension": ".py",
   "mimetype": "text/x-python",
   "name": "python",
   "nbconvert_exporter": "python",
   "pygments_lexer": "ipython3",
   "version": "3.10.7"
  }
 },
 "nbformat": 4,
 "nbformat_minor": 2
}
