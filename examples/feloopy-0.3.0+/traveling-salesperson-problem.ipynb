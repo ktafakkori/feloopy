{
 "cells": [
  {
   "cell_type": "markdown",
   "metadata": {},
   "source": [
    "### **Traveling Salesperson Problem (TSP)**"
   ]
  },
  {
   "cell_type": "markdown",
   "metadata": {},
   "source": [
    "* Copyright (c) 2022-2024, Keivan Tafakkori. All rights reserved.\n",
    "* See the file LICENSE file for licensing details."
   ]
  },
  {
   "cell_type": "markdown",
   "metadata": {},
   "source": [
    "####  *Required modules*"
   ]
  },
  {
   "cell_type": "code",
   "execution_count": 1,
   "metadata": {},
   "outputs": [],
   "source": [
    "import feloopy as flp\n",
    "import numpy as np"
   ]
  },
  {
   "cell_type": "markdown",
   "metadata": {},
   "source": [
    "####  Dataset"
   ]
  },
  {
   "cell_type": "code",
   "execution_count": 2,
   "metadata": {},
   "outputs": [],
   "source": [
    "dt = flp.data_toolkit(key=0)\n",
    "\n",
    "N = dt.set(name=\"N\", bound=[0,9])\n",
    "U = dt.set(name=\"U\", bound=[0,8])\n",
    "c = dt.uniformint(name=\"c\", dim=[N,N], bound=[1, 11])\n",
    "np.fill_diagonal(c, 0)"
   ]
  },
  {
   "cell_type": "markdown",
   "metadata": {},
   "source": [
    "####  Exact Optimization Algorithms"
   ]
  },
  {
   "cell_type": "code",
   "execution_count": 3,
   "metadata": {},
   "outputs": [
    {
     "name": "stdout",
     "output_type": "stream",
     "text": [
      "\n",
      "√ Healthy\n",
      "\n",
      "┌─ FelooPy v0.3.0 ───────────────────────────────────────────────── Released April 2024 ─┐\n",
      "│                                                                                        │\n",
      "│ Date: 2024-04-12                                                    Interface: pymprog │\n",
      "│ Time: 11:45:41                                                            Solver: glpk │\n",
      "│ Name: tsp                                                                Method: exact │\n",
      "│ Type: single-objective                                                  X Unconfigured │\n",
      "│                                                                                        │\n",
      "└────────────────────────────────────────────────────────────────────────────────────────┘\n",
      "\n",
      "┌─ Model ────────────────────────────────────────────────────────────────────────────────┐\n",
      "│                       B       I       P       F       E       S       O       C        │\n",
      "╞════════════════════════════════════════════════════════════════════════════════════════╡\n",
      "│ Class                 1       1       0       0       0       0       1       1        │\n",
      "│ Size                  100     10      0       0       0       0       1       101      │\n",
      "└────────────────────────────────────────────────────────────────────────────────────────┘\n",
      "\n",
      "┌─ Metric ────────────────────────────────────────────────── 00:00:00 h:m:s 1.10e+05 μs ─┐\n",
      "│                                                                                        │\n",
      "│ Objective                                                                     28.00    │\n",
      "│                                                                                        │\n",
      "└────────────────────────────────────────────────────────────────────────────────────────┘\n",
      "\n",
      "┌─ Decision ─────────────────────────────────────────────────────────────────────────────┐\n",
      "│                                                                                        │\n",
      "│ x = [[0., 0., 0., 0., 0., 0., 0., 0., 1., 0.],                                         │\n",
      "│      [1., 0., 0., 0., 0., 0., 0., 0., 0., 0.],                                         │\n",
      "│      [0., 0., 0., 1., 0., 0., 0., 0., 0., 0.],                                         │\n",
      "│      [0., 0., 0., 0., 1., 0., 0., 0., 0., 0.],                                         │\n",
      "│      [0., 1., 0., 0., 0., 0., 0., 0., 0., 0.],                                         │\n",
      "│      [0., 0., 1., 0., 0., 0., 0., 0., 0., 0.],                                         │\n",
      "│      [0., 0., 0., 0., 0., 1., 0., 0., 0., 0.],                                         │\n",
      "│      [0., 0., 0., 0., 0., 0., 1., 0., 0., 0.],                                         │\n",
      "│      [0., 0., 0., 0., 0., 0., 0., 0., 0., 1.],                                         │\n",
      "│      [0., 0., 0., 0., 0., 0., 0., 1., 0., 0.]]                                         │\n",
      "│                                                                                        │\n",
      "│ u = [ 8.,  7.,  3.,  4.,  6.,  2.,  1.,  0.,  9., 10.]                                 │\n",
      "│                                                                                        │\n",
      "└────────────────────────────────────────────────────────────────────────────────────────┘\n"
     ]
    }
   ],
   "source": [
    "def tsp(m):\n",
    "    x = m.bvar('x', [N, N])\n",
    "    u = m.ivar('u', [N])\n",
    "    m.obj(m.sum(c[i, j]*x[i, j] for i, j in flp.sets(N, N)))\n",
    "    m.con([m.sum(x[i, j] for i in N if i != j) == 1 for j in N])\n",
    "    m.con([m.sum(x[i, j] for j in N if j != i) == 1 for i in N])\n",
    "    m.con([u[i] - u[j] + x[i, j] * len(N) <= len(N)-1 for i,j in flp.sets(U, N) if i != j])\n",
    "    return m\n",
    "\n",
    "m = flp.search(name=\"tsp\",\n",
    "               environment=tsp, \n",
    "               directions=[\"min\"])\n",
    "\n",
    "m.clean_report()"
   ]
  }
 ],
 "metadata": {
  "kernelspec": {
   "display_name": "Python 3",
   "language": "python",
   "name": "python3"
  },
  "language_info": {
   "codemirror_mode": {
    "name": "ipython",
    "version": 3
   },
   "file_extension": ".py",
   "mimetype": "text/x-python",
   "name": "python",
   "nbconvert_exporter": "python",
   "pygments_lexer": "ipython3",
   "version": "3.10.0"
  }
 },
 "nbformat": 4,
 "nbformat_minor": 2
}
