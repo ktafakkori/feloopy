{
 "cells": [
  {
   "cell_type": "markdown",
   "metadata": {},
   "source": [
    "<img src=\"https://github.com/ktafakkori/feloopy/raw/main/assets/logo/logo3.png\" width=\"2%\"> **Mixed-Integer Linear Programming (MILP)**"
   ]
  },
  {
   "cell_type": "markdown",
   "metadata": {},
   "source": [
    "* Copyright (c) 2022-2024, Keivan Tafakkori. All rights reserved.\n",
    "* See the file LICENSE file for licensing details."
   ]
  },
  {
   "cell_type": "markdown",
   "metadata": {},
   "source": [
    "####  *Required modules*"
   ]
  },
  {
   "cell_type": "code",
   "execution_count": 1,
   "metadata": {},
   "outputs": [],
   "source": [
    "import feloopy as flp"
   ]
  },
  {
   "cell_type": "markdown",
   "metadata": {},
   "source": [
    "####  Dataset"
   ]
  },
  {
   "cell_type": "code",
   "execution_count": 2,
   "metadata": {},
   "outputs": [],
   "source": [
    "dt = flp.data_toolkit(key=0)\n",
    "\n",
    "J = dt.set(name=\"J\", bound=[0,1]) #Columns\n",
    "I = dt.set(name=\"I\", bound=[0,1]) #Rows\n",
    "a = dt.store(name=\"a\", value=[[3, 1], [1, 2]]) #A\n",
    "b = dt.store(name=\"b\", value=[9, 8]) #b\n",
    "c = dt.store(name=\"c\", value=[40, 50]) #c"
   ]
  },
  {
   "cell_type": "markdown",
   "metadata": {},
   "source": [
    "####  Exact Optimization Algorithms"
   ]
  },
  {
   "cell_type": "code",
   "execution_count": 3,
   "metadata": {},
   "outputs": [
    {
     "name": "stdout",
     "output_type": "stream",
     "text": [
      "\n",
      "√ Healthy\n",
      "\n",
      "┌─ FelooPy v0.3.5 ────────────────────────────────────────────────── Released July 2024 ─┐\n",
      "│                                                                                        │\n",
      "│ Date: 2024-07-21                                                    Interface: pymprog │\n",
      "│ Time: 16:41:09                                                            Solver: glpk │\n",
      "│ Name: ip                                                                 Method: exact │\n",
      "│ Type: single-objective                                                  X Unconfigured │\n",
      "│                                                                                        │\n",
      "└────────────────────────────────────────────────────────────────────────────────────────┘\n",
      "\n",
      "┌─ Model ────────────────────────────────────────────────────────────────────────────────┐\n",
      "│                       B       I       P       F       E       S       O       C        │\n",
      "╞════════════════════════════════════════════════════════════════════════════════════════╡\n",
      "│ Class                 1       0       1       0       0       0       1       1        │\n",
      "│ Size                  1       0       1       0       0       0       1       2        │\n",
      "└────────────────────────────────────────────────────────────────────────────────────────┘\n",
      "\n",
      "┌─ Metric ────── MGT: 00:00:00 h:m:s 4.84e+04 μs ────── CPT: 00:00:00 h:m:s 4.44e+02 μs ─┐\n",
      "│                                                                                        │\n",
      "│ Objective                                                                     215.00   │\n",
      "│                                                                                        │\n",
      "└────────────────────────────────────────────────────────────────────────────────────────┘\n",
      "\n",
      "┌─ Decision ─────────────────────────────────────────────────────────────────────────────┐\n",
      "│                                                                                        │\n",
      "│ x[0] = 1.                                                                              │\n",
      "│                                                                                        │\n",
      "│ x[1] = 3.5                                                                             │\n",
      "│                                                                                        │\n",
      "└────────────────────────────────────────────────────────────────────────────────────────┘\n"
     ]
    }
   ],
   "source": [
    "def ip(m):\n",
    "    x = [m.bvar('x[0]'), m.pvar('x[1]')]\n",
    "    m.obj(m.sum(c[j]*x[j] for j in J))\n",
    "    m.con([m.sum(a[i][j]*x[j] for j in J) <= b[i] for i in I])\n",
    "    return m\n",
    "\n",
    "m = flp.search(name=\"ip\",\n",
    "               environment=ip, \n",
    "               directions=[\"max\"],\n",
    "               method=\"exact\",\n",
    "               interface=\"pymprog\",\n",
    "               solver=\"glpk\")\n",
    "\n",
    "m.clean_report()"
   ]
  }
 ],
 "metadata": {
  "kernelspec": {
   "display_name": "Python 3",
   "language": "python",
   "name": "python3"
  },
  "language_info": {
   "codemirror_mode": {
    "name": "ipython",
    "version": 3
   },
   "file_extension": ".py",
   "mimetype": "text/x-python",
   "name": "python",
   "nbconvert_exporter": "python",
   "pygments_lexer": "ipython3",
   "version": "3.10.10"
  }
 },
 "nbformat": 4,
 "nbformat_minor": 2
}
