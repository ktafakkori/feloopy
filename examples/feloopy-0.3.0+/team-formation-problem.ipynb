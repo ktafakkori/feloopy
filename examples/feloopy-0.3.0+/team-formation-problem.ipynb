{
 "cells": [
  {
   "cell_type": "markdown",
   "metadata": {},
   "source": [
    "<img src=\"https://github.com/ktafakkori/feloopy/raw/main/assets/logo/logo3.png\" width=\"2%\"> **Team Formation Problem (TFP)**"
   ]
  },
  {
   "cell_type": "markdown",
   "metadata": {},
   "source": [
    "* Copyright (c) 2022-2024, Keivan Tafakkori. All rights reserved.\n",
    "* See the file LICENSE file for licensing details."
   ]
  },
  {
   "cell_type": "markdown",
   "metadata": {},
   "source": [
    "####  *Required modules*"
   ]
  },
  {
   "cell_type": "code",
   "execution_count": 1,
   "metadata": {},
   "outputs": [],
   "source": [
    "import feloopy as flp"
   ]
  },
  {
   "cell_type": "markdown",
   "metadata": {},
   "source": [
    "####  Dataset"
   ]
  },
  {
   "cell_type": "code",
   "execution_count": 2,
   "metadata": {},
   "outputs": [],
   "source": [
    "dt = flp.data_toolkit(key=0)\n",
    "\n",
    "A = dt.set(name=\"alternatives\", bound=[0,6]) \n",
    "C = dt.set(name=\"criteria\", bound=[0,3])\n",
    "\n",
    "applied_positions = dt.store(name=\"applied_positions\", \n",
    "                             value=[[0], \n",
    "                                    [1], \n",
    "                                    [2,0], \n",
    "                                    [1,2], \n",
    "                                    [2,0], \n",
    "                                    [1,2], \n",
    "                                    [2,0]])\n",
    "\n",
    "evaluation = dt.uniformint(name=\"evaluation\", dim=[A,C], bound=[1,3])\n",
    "capacity = dt.store(name=\"capacity\", value=5)"
   ]
  },
  {
   "cell_type": "markdown",
   "metadata": {},
   "source": [
    "####  Exact Optimization Algorithms"
   ]
  },
  {
   "cell_type": "code",
   "execution_count": 3,
   "metadata": {},
   "outputs": [
    {
     "name": "stdout",
     "output_type": "stream",
     "text": [
      "\n",
      "√ Healthy\n",
      "\n",
      "┌─ FelooPy v0.3.0 ───────────────────────────────────────────────── Released April 2024 ─┐\n",
      "│                                                                                        │\n",
      "│ Date: 2024-04-25                                                       Interface: pulp │\n",
      "│ Time: 14:27:34                                                             Solver: cbc │\n",
      "│ Name: tfp                                                                Method: exact │\n",
      "│ Type: single-objective                                                    √ Configured │\n",
      "│                                                                                        │\n",
      "└────────────────────────────────────────────────────────────────────────────────────────┘\n",
      "\n",
      "┌─ Model ────────────────────────────────────────────────────────────────────────────────┐\n",
      "│                       B       I       P       F       E       S       O       C        │\n",
      "╞════════════════════════════════════════════════════════════════════════════════════════╡\n",
      "│ Class                 1       0       0       0       0       0       1       1        │\n",
      "│ Size                  7       0       0       0       0       0       1       7        │\n",
      "└────────────────────────────────────────────────────────────────────────────────────────┘\n",
      "\n",
      "┌─ Metric ────────────────────────────────────────────────── 00:00:00 h:m:s 5.27e+04 μs ─┐\n",
      "│                                                                                        │\n",
      "│ Objective                                                                     10.00    │\n",
      "│                                                                                        │\n",
      "└────────────────────────────────────────────────────────────────────────────────────────┘\n",
      "\n",
      "┌─ Decision ─────────────────────────────────────────────────────────────────────────────┐\n",
      "│                                                                                        │\n",
      "│ x = [1., 1., 0., 1., 1., 0., 1.]                                                       │\n",
      "│                                                                                        │\n",
      "└────────────────────────────────────────────────────────────────────────────────────────┘\n"
     ]
    }
   ],
   "source": [
    "def tfp(m):\n",
    "    x=m.bvar(name=\"x\", dim=[A])\n",
    "    m.obj(m.sum(evaluation[a,0]*x[a] for a in A))\n",
    "    m.con(m.sum(x[a] for a in A)<=capacity)\n",
    "    m.con(m.sum(x[a] for a in A if 0 in applied_positions[a])>=2)\n",
    "    m.con(m.sum(evaluation[a,1]*x[a] for a in A)>=10)\n",
    "    m.con(m.sum(evaluation[a,2]*x[a] for a in A)>=10)\n",
    "    m.con(m.sum(x[a] for a in A if a==1 or a==2) <=1)\n",
    "    m.con(x[1]+x[4]>= 1+ x[3])\n",
    "    m.con(x[2]+x[3]>= 1)\n",
    "    return m\n",
    "\n",
    "m = flp.search(name=\"tfp\",\n",
    "               environment=tfp, \n",
    "               directions=[\"max\"],\n",
    "               method=\"exact\",\n",
    "               interface=\"pulp\",\n",
    "               solver=\"cbc\",\n",
    "               key_vars=[\"y\", \"x\"])\n",
    "\n",
    "m.clean_report()"
   ]
  }
 ],
 "metadata": {
  "kernelspec": {
   "display_name": "Python 3",
   "language": "python",
   "name": "python3"
  },
  "language_info": {
   "codemirror_mode": {
    "name": "ipython",
    "version": 3
   },
   "file_extension": ".py",
   "mimetype": "text/x-python",
   "name": "python",
   "nbconvert_exporter": "python",
   "pygments_lexer": "ipython3",
   "version": "3.10.0"
  }
 },
 "nbformat": 4,
 "nbformat_minor": 2
}
