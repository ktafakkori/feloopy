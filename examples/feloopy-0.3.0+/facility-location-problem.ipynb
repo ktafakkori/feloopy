{
 "cells": [
  {
   "cell_type": "markdown",
   "metadata": {},
   "source": [
    "### **Facility Location Problem (FLP)**"
   ]
  },
  {
   "cell_type": "markdown",
   "metadata": {},
   "source": [
    "* Copyright (c) 2022-2024, Keivan Tafakkori. All rights reserved.\n",
    "* See the file LICENSE file for licensing details."
   ]
  },
  {
   "cell_type": "markdown",
   "metadata": {},
   "source": [
    "####  *Required modules*"
   ]
  },
  {
   "cell_type": "code",
   "execution_count": 1,
   "metadata": {},
   "outputs": [],
   "source": [
    "import feloopy as flp"
   ]
  },
  {
   "cell_type": "markdown",
   "metadata": {},
   "source": [
    "####  Dataset"
   ]
  },
  {
   "cell_type": "code",
   "execution_count": 2,
   "metadata": {},
   "outputs": [],
   "source": [
    "dt = flp.data_toolkit(key=0)\n",
    "\n",
    "I = dt.set(name=\"I\", bound=[0,9])\n",
    "J = dt.set(name=\"J\", bound=[0,4])\n",
    "f = dt.uniformint(name=\"f\", dim=[I], bound=[10,100]) #Establishment cost\n",
    "d = dt.uniform(name=\"w\", dim=[J], bound=[20,30])     #Demand\n",
    "s = dt.uniform(name=\"s\", dim=[I,J], bound=[10,200])  #Distance"
   ]
  },
  {
   "cell_type": "markdown",
   "metadata": {},
   "source": [
    "####  Exact Optimization Algorithms"
   ]
  },
  {
   "cell_type": "code",
   "execution_count": 3,
   "metadata": {},
   "outputs": [
    {
     "name": "stdout",
     "output_type": "stream",
     "text": [
      "\n",
      "√ Healthy\n",
      "\n",
      "┌─ FelooPy v0.3.0 ───────────────────────────────────────────────── Released April 2024 ─┐\n",
      "│                                                                                        │\n",
      "│ Date: 2024-04-22                                                      Interface: highs │\n",
      "│ Time: 18:16:36                                                           Solver: highs │\n",
      "│ Name: uflp                                                               Method: exact │\n",
      "│ Type: single-objective                                                  X Unconfigured │\n",
      "│                                                                                        │\n",
      "└────────────────────────────────────────────────────────────────────────────────────────┘\n",
      "\n",
      "┌─ Model ────────────────────────────────────────────────────────────────────────────────┐\n",
      "│                       B       I       P       F       E       S       O       C        │\n",
      "╞════════════════════════════════════════════════════════════════════════════════════════╡\n",
      "│ Class                 1       0       1       0       0       0       1       1        │\n",
      "│ Size                  10      0       50      0       0       0       1       55       │\n",
      "└────────────────────────────────────────────────────────────────────────────────────────┘\n",
      "\n",
      "┌─ Metric ────────────────────────────────────────────────── 00:00:00 h:m:s 4.46e+03 μs ─┐\n",
      "│                                                                                        │\n",
      "│ Objective                                                                     2961.08  │\n",
      "│                                                                                        │\n",
      "└────────────────────────────────────────────────────────────────────────────────────────┘\n",
      "\n",
      "┌─ Decision ─────────────────────────────────────────────────────────────────────────────┐\n",
      "│                                                                                        │\n",
      "│ x = [1., 0., 1., 0., 1., 0., 0., 0., 0., 1.]                                           │\n",
      "│                                                                                        │\n",
      "│ y = [[0., 1., 0., 1., 0.],                                                             │\n",
      "│      [0., 0., 0., 0., 0.],                                                             │\n",
      "│      [1., 0., 0., 0., 0.],                                                             │\n",
      "│      [0., 0., 0., 0., 0.],                                                             │\n",
      "│      [0., 0., 1., 0., 0.],                                                             │\n",
      "│      [0., 0., 0., 0., 0.],                                                             │\n",
      "│      [0., 0., 0., 0., 0.],                                                             │\n",
      "│      [0., 0., 0., 0., 0.],                                                             │\n",
      "│      [0., 0., 0., 0., 0.],                                                             │\n",
      "│      [0., 0., 0., 0., 1.]]                                                             │\n",
      "│                                                                                        │\n",
      "└────────────────────────────────────────────────────────────────────────────────────────┘\n"
     ]
    }
   ],
   "source": [
    "def uflp(m):\n",
    "    x = m.bvar(name=\"x\", dim=[I])\n",
    "    y = m.pvar(name=\"y\", dim=[I,J])\n",
    "    m.obj(m.sum(f[i]*x[i] for i in I)+m.sum(d[j]*s[i,j]*y[i,j] for i,j in flp.sets(I,J)))\n",
    "    m.con([m.sum(y[i,j] for i in I)==1 for j in J])\n",
    "    m.con([y[i,j]<=x[i] for i,j in flp.sets(I,J)])\n",
    "    return m\n",
    "\n",
    "m = flp.search(name=\"uflp\",\n",
    "               environment=uflp, \n",
    "               directions=[\"min\"],\n",
    "               method=\"exact\",\n",
    "               interface=\"highs\",\n",
    "               solver=\"highs\",\n",
    "               key_vars=[\"x\", \"y\"])\n",
    "\n",
    "m.clean_report()"
   ]
  }
 ],
 "metadata": {
  "kernelspec": {
   "display_name": "Python 3",
   "language": "python",
   "name": "python3"
  },
  "language_info": {
   "codemirror_mode": {
    "name": "ipython",
    "version": 3
   },
   "file_extension": ".py",
   "mimetype": "text/x-python",
   "name": "python",
   "nbconvert_exporter": "python",
   "pygments_lexer": "ipython3",
   "version": "3.10.0"
  }
 },
 "nbformat": 4,
 "nbformat_minor": 2
}
