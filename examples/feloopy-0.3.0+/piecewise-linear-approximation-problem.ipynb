{
 "cells": [
  {
   "cell_type": "markdown",
   "metadata": {},
   "source": [
    "<img src=\"https://github.com/ktafakkori/feloopy/raw/main/assets/logo/logo3.png\" width=\"2%\"> **Piecewise Linear Approximation Problem (PLAP)**"
   ]
  },
  {
   "cell_type": "markdown",
   "metadata": {},
   "source": [
    "* Copyright (c) 2022-2024, Keivan Tafakkori. All rights reserved.\n",
    "* See the file LICENSE file for licensing details."
   ]
  },
  {
   "cell_type": "markdown",
   "metadata": {},
   "source": [
    "####  *Required modules*"
   ]
  },
  {
   "cell_type": "code",
   "execution_count": 1,
   "metadata": {},
   "outputs": [],
   "source": [
    "import feloopy as flp"
   ]
  },
  {
   "cell_type": "markdown",
   "metadata": {},
   "source": [
    "####  Dataset"
   ]
  },
  {
   "cell_type": "code",
   "execution_count": 2,
   "metadata": {},
   "outputs": [],
   "source": [
    "None"
   ]
  },
  {
   "cell_type": "markdown",
   "metadata": {},
   "source": [
    "#### 10 Breakpoints"
   ]
  },
  {
   "cell_type": "code",
   "execution_count": 3,
   "metadata": {},
   "outputs": [
    {
     "name": "stdout",
     "output_type": "stream",
     "text": [
      "\n",
      "√ Healthy\n",
      "\n",
      "┌─ FelooPy v0.3.5 ────────────────────────────────────────────────── Released July 2024 ─┐\n",
      "│                                                                                        │\n",
      "│ Date: 2024-07-21                                                    Interface: pymprog │\n",
      "│ Time: 15:43:36                                                            Solver: glpk │\n",
      "│ Name: pla                                                                Method: exact │\n",
      "│ Type: single-objective                                                  X Unconfigured │\n",
      "│                                                                                        │\n",
      "└────────────────────────────────────────────────────────────────────────────────────────┘\n",
      "\n",
      "┌─ Model ────────────────────────────────────────────────────────────────────────────────┐\n",
      "│                       B       I       P       F       E       S       O       C        │\n",
      "╞════════════════════════════════════════════════════════════════════════════════════════╡\n",
      "│ Class                 1       0       1       1       0       0       1       1        │\n",
      "│ Size                  9       0       9       1       0       0       1       20       │\n",
      "└────────────────────────────────────────────────────────────────────────────────────────┘\n",
      "\n",
      "┌─ Metric ────── MGT: 00:00:00 h:m:s 5.47e+04 μs ────── CPT: 00:00:00 h:m:s 3.15e+03 μs ─┐\n",
      "│                                                                                        │\n",
      "│ Objective                                                                     1.23     │\n",
      "│                                                                                        │\n",
      "└────────────────────────────────────────────────────────────────────────────────────────┘\n",
      "\n",
      "┌─ Decision ─────────────────────────────────────────────────────────────────────────────┐\n",
      "│                                                                                        │\n",
      "│ x = 0.                                                                                 │\n",
      "│                                                                                        │\n",
      "└────────────────────────────────────────────────────────────────────────────────────────┘\n"
     ]
    }
   ],
   "source": [
    "def pla(m):\n",
    "    x = m.fvar(name=\"x\", bound=[-10,10])\n",
    "    m.obj(m.lin_approx(name=\"x\", f=lambda x:x**2, var=x, bound=[-10,10], num_breakpoints=10))\n",
    "    return m\n",
    "\n",
    "m = flp.search(name=\"pla\",\n",
    "               environment=pla,\n",
    "               directions=[\"min\"],\n",
    "               key_vars=[\"x\"])\n",
    "\n",
    "m.clean_report()"
   ]
  },
  {
   "cell_type": "markdown",
   "metadata": {},
   "source": [
    "#### 100 Breakpoints"
   ]
  },
  {
   "cell_type": "code",
   "execution_count": 4,
   "metadata": {},
   "outputs": [
    {
     "name": "stdout",
     "output_type": "stream",
     "text": [
      "\n",
      "√ Healthy\n",
      "\n",
      "┌─ FelooPy v0.3.5 ────────────────────────────────────────────────── Released July 2024 ─┐\n",
      "│                                                                                        │\n",
      "│ Date: 2024-07-21                                                    Interface: pymprog │\n",
      "│ Time: 15:43:37                                                            Solver: glpk │\n",
      "│ Name: pla                                                                Method: exact │\n",
      "│ Type: single-objective                                                  X Unconfigured │\n",
      "│                                                                                        │\n",
      "└────────────────────────────────────────────────────────────────────────────────────────┘\n",
      "\n",
      "┌─ Model ────────────────────────────────────────────────────────────────────────────────┐\n",
      "│                       B       I       P       F       E       S       O       C        │\n",
      "╞════════════════════════════════════════════════════════════════════════════════════════╡\n",
      "│ Class                 1       0       1       1       0       0       1       1        │\n",
      "│ Size                  99      0       99      1       0       0       1       200      │\n",
      "└────────────────────────────────────────────────────────────────────────────────────────┘\n",
      "\n",
      "┌─ Metric ────── MGT: 00:00:00 h:m:s 4.01e+04 μs ────── CPT: 00:00:00 h:m:s 5.19e+04 μs ─┐\n",
      "│                                                                                        │\n",
      "│ Objective                                                                     0.01     │\n",
      "│                                                                                        │\n",
      "└────────────────────────────────────────────────────────────────────────────────────────┘\n",
      "\n",
      "┌─ Decision ─────────────────────────────────────────────────────────────────────────────┐\n",
      "│                                                                                        │\n",
      "│ x = 0.                                                                                 │\n",
      "│                                                                                        │\n",
      "└────────────────────────────────────────────────────────────────────────────────────────┘\n"
     ]
    }
   ],
   "source": [
    "def pla(m):\n",
    "    x = m.fvar(name=\"x\", bound=[-10,10])\n",
    "    m.obj(m.lin_approx(name=\"x\", f=lambda x:x**2, var=x, bound=[-10,10], num_breakpoints=100))\n",
    "    return m\n",
    "\n",
    "m = flp.search(name=\"pla\",\n",
    "               environment=pla,\n",
    "               directions=[\"min\"],\n",
    "               key_vars=[\"x\"])\n",
    "\n",
    "m.clean_report()"
   ]
  },
  {
   "cell_type": "markdown",
   "metadata": {},
   "source": [
    "#### 1000 Breakpoints"
   ]
  },
  {
   "cell_type": "code",
   "execution_count": 5,
   "metadata": {},
   "outputs": [
    {
     "name": "stdout",
     "output_type": "stream",
     "text": [
      "\n",
      "√ Healthy\n",
      "\n",
      "┌─ FelooPy v0.3.5 ────────────────────────────────────────────────── Released July 2024 ─┐\n",
      "│                                                                                        │\n",
      "│ Date: 2024-07-21                                                    Interface: pymprog │\n",
      "│ Time: 15:43:38                                                            Solver: glpk │\n",
      "│ Name: pla                                                                Method: exact │\n",
      "│ Type: single-objective                                                  X Unconfigured │\n",
      "│                                                                                        │\n",
      "└────────────────────────────────────────────────────────────────────────────────────────┘\n",
      "\n",
      "┌─ Model ────────────────────────────────────────────────────────────────────────────────┐\n",
      "│                       B       I       P       F       E       S       O       C        │\n",
      "╞════════════════════════════════════════════════════════════════════════════════════════╡\n",
      "│ Class                 1       0       1       1       0       0       1       1        │\n",
      "│ Size                  999     0       999     1       0       0       1       2000     │\n",
      "└────────────────────────────────────────────────────────────────────────────────────────┘\n",
      "\n",
      "┌─ Metric ────── MGT: 00:00:00 h:m:s 3.72e+05 μs ────── CPT: 00:00:00 h:m:s 7.98e+05 μs ─┐\n",
      "│                                                                                        │\n",
      "│ Objective                                                                     0.00     │\n",
      "│                                                                                        │\n",
      "└────────────────────────────────────────────────────────────────────────────────────────┘\n",
      "\n",
      "┌─ Decision ─────────────────────────────────────────────────────────────────────────────┐\n",
      "│                                                                                        │\n",
      "│ x = 0.                                                                                 │\n",
      "│                                                                                        │\n",
      "└────────────────────────────────────────────────────────────────────────────────────────┘\n"
     ]
    }
   ],
   "source": [
    "def pla(m):\n",
    "    x = m.fvar(name=\"x\", bound=[-10,10])\n",
    "    m.obj(m.lin_approx(name=\"x\", f=lambda x:x**2, var=x, bound=[-10,10], num_breakpoints=1000))\n",
    "    return m\n",
    "\n",
    "m = flp.search(name=\"pla\",\n",
    "               environment=pla,\n",
    "               directions=[\"min\"],\n",
    "               key_vars=[\"x\"])\n",
    "\n",
    "m.clean_report()"
   ]
  }
 ],
 "metadata": {
  "kernelspec": {
   "display_name": "Python 3",
   "language": "python",
   "name": "python3"
  },
  "language_info": {
   "codemirror_mode": {
    "name": "ipython",
    "version": 3
   },
   "file_extension": ".py",
   "mimetype": "text/x-python",
   "name": "python",
   "nbconvert_exporter": "python",
   "pygments_lexer": "ipython3",
   "version": "3.10.10"
  }
 },
 "nbformat": 4,
 "nbformat_minor": 2
}
