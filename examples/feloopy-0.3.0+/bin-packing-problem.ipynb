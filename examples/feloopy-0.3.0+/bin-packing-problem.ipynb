{
 "cells": [
  {
   "cell_type": "markdown",
   "metadata": {},
   "source": [
    "<img src=\"https://github.com/ktafakkori/feloopy/raw/main/assets/logo/logo3.png\" width=\"2%\"> **Bin Packing Problem (BPP)**"
   ]
  },
  {
   "cell_type": "markdown",
   "metadata": {},
   "source": [
    "* Copyright (c) 2022-2024, Keivan Tafakkori. All rights reserved.\n",
    "* See the file LICENSE file for licensing details."
   ]
  },
  {
   "cell_type": "markdown",
   "metadata": {},
   "source": [
    "####  *Required modules*"
   ]
  },
  {
   "cell_type": "code",
   "execution_count": 1,
   "metadata": {},
   "outputs": [],
   "source": [
    "import feloopy as flp"
   ]
  },
  {
   "cell_type": "markdown",
   "metadata": {},
   "source": [
    "####  Dataset"
   ]
  },
  {
   "cell_type": "code",
   "execution_count": 2,
   "metadata": {},
   "outputs": [],
   "source": [
    "dt = flp.data_toolkit(key=0)\n",
    "\n",
    "I = dt.set(name=\"I\", bound=[0,6])\n",
    "B = dt.set(name=\"B\", bound=[0,5])\n",
    "\n",
    "s = dt.uniformint(name=\"s\", dim=[I], bound=[10,20])\n",
    "c = dt.uniformint(name=\"c\", dim=[B], bound=[15,30])"
   ]
  },
  {
   "cell_type": "markdown",
   "metadata": {},
   "source": [
    "####  Exact Optimization Algorithms"
   ]
  },
  {
   "cell_type": "code",
   "execution_count": 3,
   "metadata": {},
   "outputs": [
    {
     "name": "stdout",
     "output_type": "stream",
     "text": [
      "\n",
      "√ Healthy\n",
      "\n",
      "┌─ FelooPy v0.3.5 ────────────────────────────────────────────────── Released July 2024 ─┐\n",
      "│                                                                                        │\n",
      "│ Date: 2024-07-21                                                    Interface: ortools │\n",
      "│ Time: 15:38:41                                                             Solver: cbc │\n",
      "│ Name: bpp                                                                Method: exact │\n",
      "│ Type: single-objective                                                  X Unconfigured │\n",
      "│                                                                                        │\n",
      "└────────────────────────────────────────────────────────────────────────────────────────┘\n",
      "\n",
      "┌─ Model ────────────────────────────────────────────────────────────────────────────────┐\n",
      "│                       B       I       P       F       E       S       O       C        │\n",
      "╞════════════════════════════════════════════════════════════════════════════════════════╡\n",
      "│ Class                 2       0       0       0       0       0       1       1        │\n",
      "│ Size                  48      0       0       0       0       0       1       13       │\n",
      "└────────────────────────────────────────────────────────────────────────────────────────┘\n",
      "\n",
      "┌─ Metric ────── MGT: 00:00:00 h:m:s 2.12e+05 μs ────── CPT: 00:00:00 h:m:s 4.02e+04 μs ─┐\n",
      "│                                                                                        │\n",
      "│ Objective                                                                     4.00     │\n",
      "│                                                                                        │\n",
      "└────────────────────────────────────────────────────────────────────────────────────────┘\n",
      "\n",
      "┌─ Decision ─────────────────────────────────────────────────────────────────────────────┐\n",
      "│                                                                                        │\n",
      "│ y = [0., 0., 1., 1., 1., 1.]                                                           │\n",
      "│                                                                                        │\n",
      "│ x = [[0., 0., 0., 1., 0., 0.],                                                         │\n",
      "│      [0., 0., 0., 0., 1., 0.],                                                         │\n",
      "│      [0., 0., 1., 0., 0., 0.],                                                         │\n",
      "│      [0., 0., 0., 0., 1., 0.],                                                         │\n",
      "│      [0., 0., 1., 0., 0., 0.],                                                         │\n",
      "│      [0., 0., 0., 0., 0., 1.],                                                         │\n",
      "│      [0., 0., 0., 0., 0., 1.]]                                                         │\n",
      "│                                                                                        │\n",
      "└────────────────────────────────────────────────────────────────────────────────────────┘\n"
     ]
    }
   ],
   "source": [
    "def bpp(m):\n",
    "    y=m.bvar(name=\"y\", dim=[B]) \n",
    "    x=m.bvar(name=\"x\", dim=[I,B])\n",
    "    m.obj(m.sum(y[b] for b in B))\n",
    "    m.con([m.sum(x[i,b] for b in B)==1 for i in I])\n",
    "    m.con([m.sum(s[i]*x[i,b] for i in I) <= c[b]*y[b] for b in B])\n",
    "    return m\n",
    "\n",
    "m = flp.search(name=\"bpp\",\n",
    "               environment=bpp, \n",
    "               directions=[\"min\"],\n",
    "               method=\"exact\",\n",
    "               interface=\"ortools\",\n",
    "               solver=\"cbc\",\n",
    "               key_vars=[\"y\", \"x\"],\n",
    "               verbose=True)\n",
    "\n",
    "m.report()"
   ]
  }
 ],
 "metadata": {
  "kernelspec": {
   "display_name": "Python 3",
   "language": "python",
   "name": "python3"
  },
  "language_info": {
   "codemirror_mode": {
    "name": "ipython",
    "version": 3
   },
   "file_extension": ".py",
   "mimetype": "text/x-python",
   "name": "python",
   "nbconvert_exporter": "python",
   "pygments_lexer": "ipython3",
   "version": "3.10.10"
  }
 },
 "nbformat": 4,
 "nbformat_minor": 2
}
