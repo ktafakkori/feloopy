{
 "cells": [
  {
   "cell_type": "markdown",
   "metadata": {},
   "source": [
    "### **Linear Regression Problem (LRP)**"
   ]
  },
  {
   "cell_type": "markdown",
   "metadata": {},
   "source": [
    "* Copyright (c) 2022-2024, Keivan Tafakkori. All rights reserved.\n",
    "* See the file LICENSE file for licensing details."
   ]
  },
  {
   "cell_type": "markdown",
   "metadata": {},
   "source": [
    "####  *Required modules*"
   ]
  },
  {
   "cell_type": "code",
   "execution_count": 71,
   "metadata": {},
   "outputs": [],
   "source": [
    "import feloopy as flp\n",
    "import numpy as np"
   ]
  },
  {
   "cell_type": "markdown",
   "metadata": {},
   "source": [
    "####  Dataset"
   ]
  },
  {
   "cell_type": "code",
   "execution_count": 72,
   "metadata": {},
   "outputs": [],
   "source": [
    "dt = flp.data_toolkit(key=0)\n",
    "\n",
    "train_a = dt.store(name=\"train_a\", value=np.array([[1, 2, 2], [2, 3, 3], [3, 4, 5], [4, 5, 6], [ 5, 7, 8]]))\n",
    "test__a = dt.store(name=\"test__a\", value=np.array([[6, 8, 9], [7, 4, 3], [8, 3, 5], [9, 1, 6], [10, 9, 3]]))  \n",
    "train_b = dt.store(name=\"train_b\", value=np.array([1, 2, 3, 4,  5]))\n",
    "test__b = dt.store(name=\"test__b\", value=np.array([6, 7, 8, 9, 10]))\n",
    "U = dt.set(name=\"U\", bound=[0,np.shape(train_a)[1]-1])\n",
    "T = dt.set(name=\"T\", bound=[0,np.shape(train_a)[0]-1])"
   ]
  },
  {
   "cell_type": "markdown",
   "metadata": {},
   "source": [
    "####  Preprocessing"
   ]
  },
  {
   "cell_type": "code",
   "execution_count": 73,
   "metadata": {},
   "outputs": [],
   "source": [
    "ran_a = np.array([np.ptp(train_a[:,i])     for i in U])\n",
    "ave_a = np.array([np.average(train_a[:,i]) for i in U])\n",
    "nor_a = (train_a-ave_a)/ran_a\n",
    "ran_b = np.ptp(train_b)\n",
    "ave_b = np.average(train_b)\n",
    "nor_b = (train_b-ave_b)/ran_b"
   ]
  },
  {
   "cell_type": "markdown",
   "metadata": {},
   "source": [
    "####  Exact Optimization Algorithms"
   ]
  },
  {
   "cell_type": "code",
   "execution_count": 74,
   "metadata": {},
   "outputs": [
    {
     "name": "stdout",
     "output_type": "stream",
     "text": [
      "\n",
      "√ Healthy\n",
      "\n",
      "┌─ FelooPy v0.3.0 ───────────────────────────────────────────────── Released April 2024 ─┐\n",
      "│                                                                                        │\n",
      "│ Date: 2024-04-16                                                      Interface: gekko │\n",
      "│ Time: 14:51:13                                                           Solver: apopt │\n",
      "│ Name: lrp                                                                Method: exact │\n",
      "│ Type: single-objective                                                  X Unconfigured │\n",
      "│                                                                                        │\n",
      "└────────────────────────────────────────────────────────────────────────────────────────┘\n",
      "\n",
      "┌─ Model ────────────────────────────────────────────────────────────────────────────────┐\n",
      "│                       B       I       P       F       E       S       O       C        │\n",
      "╞════════════════════════════════════════════════════════════════════════════════════════╡\n",
      "│ Class                 0       0       0       2       0       0       1       0        │\n",
      "│ Size                  0       0       0       4       0       0       1       0        │\n",
      "└────────────────────────────────────────────────────────────────────────────────────────┘\n",
      "\n",
      "┌─ Metric ────────────────────────────────────────────────── 00:00:00 h:m:s 1.28e+05 μs ─┐\n",
      "│                                                                                        │\n",
      "│ Objective                                                                     0.00     │\n",
      "│                                                                                        │\n",
      "└────────────────────────────────────────────────────────────────────────────────────────┘\n",
      "\n",
      "┌─ Decision ─────────────────────────────────────────────────────────────────────────────┐\n",
      "│                                                                                        │\n",
      "│ x = [ 1.00000090e+00, -5.30460941e-08, -1.04373354e-06]                                │\n",
      "│                                                                                        │\n",
      "│ z = 0.                                                                                 │\n",
      "│                                                                                        │\n",
      "└────────────────────────────────────────────────────────────────────────────────────────┘\n"
     ]
    }
   ],
   "source": [
    "def lrp(m):\n",
    "    x = m.fvar('x', [U])\n",
    "    z = m.fvar('z')\n",
    "    m.obj((2*len(T))**(-1)*sum((sum(nor_a[t, i]*x[i] for i in U) + z-nor_b[t])**2 for t in T))\n",
    "    return m\n",
    "\n",
    "m = flp.search(name=\"lrp\",\n",
    "               environment=lrp, \n",
    "               directions=[\"min\"],\n",
    "               method=\"exact\",\n",
    "               interface=\"gekko\",\n",
    "               solver=\"apopt\")\n",
    "\n",
    "m.clean_report()"
   ]
  },
  {
   "cell_type": "markdown",
   "metadata": {},
   "source": [
    "####  Postprocessing"
   ]
  },
  {
   "cell_type": "code",
   "execution_count": 75,
   "metadata": {},
   "outputs": [],
   "source": [
    "weight = m.get(\"x\")\n",
    "bias = m.get(\"z\")"
   ]
  },
  {
   "cell_type": "code",
   "execution_count": 76,
   "metadata": {},
   "outputs": [
    {
     "name": "stdout",
     "output_type": "stream",
     "text": [
      "Input = [6. 8. 9.] -> Output = 5.999999623185958\n",
      "Input = [7. 4. 3.] -> Output = 7.000004870167626\n",
      "Input = [8. 3. 5.] -> Output = 8.000004423259778\n",
      "Input = [9. 1. 6.] -> Output = 9.000004714611169\n",
      "Input = [10.  9.  3.] -> Output = 10.000007364883249\n"
     ]
    }
   ],
   "source": [
    "def approximator_model(weight,bias,input): \n",
    "    print(f\"Input = {input*ran_a+ave_a} -> Output = {(sum(weight[i]*input[i] for i in range(len(input))) + bias)*ran_b+ave_b}\")\n",
    "\n",
    "nor_a = (test__a-ave_a)/ran_a\n",
    "nor_b = (test__b-ave_b)/ran_b\n",
    "\n",
    "for item in nor_a:\n",
    "    approximator_model(weight,bias,item)"
   ]
  }
 ],
 "metadata": {
  "kernelspec": {
   "display_name": "Python 3",
   "language": "python",
   "name": "python3"
  },
  "language_info": {
   "codemirror_mode": {
    "name": "ipython",
    "version": 3
   },
   "file_extension": ".py",
   "mimetype": "text/x-python",
   "name": "python",
   "nbconvert_exporter": "python",
   "pygments_lexer": "ipython3",
   "version": "3.10.0"
  }
 },
 "nbformat": 4,
 "nbformat_minor": 2
}
