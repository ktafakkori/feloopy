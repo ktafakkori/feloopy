{
 "cells": [
  {
   "cell_type": "markdown",
   "metadata": {},
   "source": [
    "<img src=\"https://github.com/ktafakkori/feloopy/raw/main/assets/logo/logo3.png\" width=\"2%\"> **Clustering Problem (CP)**"
   ]
  },
  {
   "cell_type": "markdown",
   "metadata": {},
   "source": [
    "* Copyright (c) 2022-2024, Keivan Tafakkori. All rights reserved.\n",
    "* See the file LICENSE file for licensing details."
   ]
  },
  {
   "cell_type": "markdown",
   "metadata": {},
   "source": [
    "####  *Required modules*"
   ]
  },
  {
   "cell_type": "code",
   "execution_count": 1,
   "metadata": {},
   "outputs": [],
   "source": [
    "import feloopy as flp\n",
    "import numpy as np"
   ]
  },
  {
   "cell_type": "markdown",
   "metadata": {},
   "source": [
    "####  Dataset"
   ]
  },
  {
   "cell_type": "code",
   "execution_count": 2,
   "metadata": {},
   "outputs": [],
   "source": [
    "dt = flp.data_toolkit(key=0)\n",
    "C = dt.set(name=\"C\", bound=[0,3])\n",
    "c_x = dt.uniformint(name=\"c_x\", dim=[C], bound=[0,100])\n",
    "c_y = dt.uniformint(name=\"c_y\", dim=[C], bound=[0,100])\n",
    "P = dt.set(name=\"P\", bound=[0,9])\n",
    "p_x = dt.uniformint(name=\"p_x\", dim=[P], bound=[0,100])\n",
    "p_y = dt.uniformint(name=\"p_y\", dim=[P], bound=[0,100])\n",
    "s = dt.zeros(name=\"s\", dim=[P,C])\n",
    "for c in C:\n",
    "    for p in P:\n",
    "        s[p,c] = np.sqrt((c_x[c]-p_x[p])**2+(c_y[c]-p_y[p])**2)"
   ]
  },
  {
   "cell_type": "markdown",
   "metadata": {},
   "source": [
    "####  Exact Optimization Algorithms"
   ]
  },
  {
   "cell_type": "code",
   "execution_count": 3,
   "metadata": {},
   "outputs": [
    {
     "name": "stdout",
     "output_type": "stream",
     "text": [
      "\n",
      "√ Healthy\n",
      "\n",
      "┌─ FelooPy v0.3.5 ────────────────────────────────────────────────── Released July 2024 ─┐\n",
      "│                                                                                        │\n",
      "│ Date: 2024-07-21                                                       Interface: pulp │\n",
      "│ Time: 15:39:36                                                             Solver: cbc │\n",
      "│ Name: cp                                                                 Method: exact │\n",
      "│ Type: single-objective                                                    √ Configured │\n",
      "│                                                                                        │\n",
      "└────────────────────────────────────────────────────────────────────────────────────────┘\n",
      "\n",
      "┌─ Model ────────────────────────────────────────────────────────────────────────────────┐\n",
      "│                       B       I       P       F       E       S       O       C        │\n",
      "╞════════════════════════════════════════════════════════════════════════════════════════╡\n",
      "│ Class                 1       0       1       0       0       0       1       1        │\n",
      "│ Size                  40      0       1       0       0       0       1       50       │\n",
      "└────────────────────────────────────────────────────────────────────────────────────────┘\n",
      "\n",
      "┌─ Metric ────── MGT: 00:00:00 h:m:s 1.58e+05 μs ────── CPT: 00:00:00 h:m:s 6.31e+04 μs ─┐\n",
      "│                                                                                        │\n",
      "│ Objective                                                                     63.07    │\n",
      "│                                                                                        │\n",
      "└────────────────────────────────────────────────────────────────────────────────────────┘\n",
      "\n",
      "┌─ Decision ─────────────────────────────────────────────────────────────────────────────┐\n",
      "│                                                                                        │\n",
      "│ x = [[0., 0., 0., 1.],                                                                 │\n",
      "│      [1., 0., 0., 0.],                                                                 │\n",
      "│      [1., 0., 0., 0.],                                                                 │\n",
      "│      [1., 0., 0., 0.],                                                                 │\n",
      "│      [1., 0., 0., 0.],                                                                 │\n",
      "│      [0., 0., 1., 0.],                                                                 │\n",
      "│      [1., 0., 0., 0.],                                                                 │\n",
      "│      [1., 0., 0., 0.],                                                                 │\n",
      "│      [1., 0., 0., 0.],                                                                 │\n",
      "│      [0., 1., 0., 0.]]                                                                 │\n",
      "│                                                                                        │\n",
      "└────────────────────────────────────────────────────────────────────────────────────────┘\n"
     ]
    }
   ],
   "source": [
    "def cp(m):\n",
    "    x=m.bvar(name=\"x\", dim=[P,C])\n",
    "    m.obj(m.lin_max([x[p,c]*s[p,c] for p,c in flp.sets(P,C)], type_max=\"pvar\"))\n",
    "    m.con([m.sum(x[p,c] for c in C) == 1 for p in P])\n",
    "    return m\n",
    "\n",
    "m = flp.search(name=\"cp\",\n",
    "               environment=cp, \n",
    "               directions=[\"min\"],\n",
    "               method=\"exact\",\n",
    "               interface=\"pulp\",\n",
    "               solver=\"cbc\",\n",
    "               key_vars=[\"y\", \"x\"])\n",
    "\n",
    "m.clean_report()"
   ]
  }
 ],
 "metadata": {
  "kernelspec": {
   "display_name": "Python 3",
   "language": "python",
   "name": "python3"
  },
  "language_info": {
   "codemirror_mode": {
    "name": "ipython",
    "version": 3
   },
   "file_extension": ".py",
   "mimetype": "text/x-python",
   "name": "python",
   "nbconvert_exporter": "python",
   "pygments_lexer": "ipython3",
   "version": "3.10.10"
  }
 },
 "nbformat": 4,
 "nbformat_minor": 2
}
